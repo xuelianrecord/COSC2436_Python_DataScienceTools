{
 "cells": [
  {
   "cell_type": "markdown",
   "metadata": {},
   "source": [
    "<center><img src=\"images/logo.png\" alt=\"drawing\" width=\"400\" style=\"background-color:white; padding:1em;\" /></center> <br/>\n",
    "\n",
    "# ML through Application\n",
    "## Module 1, Lab 5: Using Advanced AutoGluon Techniques\n",
    "\n",
    "By the end of this document, you should be able to understand how to use [AutoGluon](https://auto.gluon.ai/stable/index.html#) to train a model and make a prediction on the full train dataset and generate a prediction file.\n",
    "\n",
    "You will learn how to do the following:\n",
    "\n",
    "- Train a model on a full dataset.\n",
    "- Limit the time that a model trains for.\n",
    "- Output a file that contains predictions.\n",
    "\n",
    "---\n",
    "\n",
    "You will explore a dataset that contains information about books. The goal is to predict book prices by using features about the books.\n",
    "\n",
    "__Business problem:__ Books from a large database with several features cannot be listed for sale because one critical piece of information is missing: the price. \n",
    "\n",
    "__ML problem description:__ Predict book prices by using book features, such as genre, release data, ratings, and number of reviews.\n",
    "\n",
    "This is a regression task (the training dataset has a book price column to use for labels). \n",
    "\n",
    "----\n",
    "\n",
    "You will be presented with two kinds of exercises throughout the notebook: activities and challenges. <br/>\n",
    "\n",
    "| <img style=\"float: center;\" src=\"images/activity.png\" alt=\"Activity\" width=\"125\"/>| <img style=\"float: center;\" src=\"images/challenge.png\" alt=\"Challenge\" width=\"125\"/>|\n",
    "| --- | --- |\n",
    "|<p style=\"text-align:center;\">No coding is needed for an activity. You try to understand a concept, <br/>answer questions, or run a code cell.</p> |<p style=\"text-align:center;\">Challenges are where you can practice your coding skills.</p>"
   ]
  },
  {
   "cell_type": "markdown",
   "metadata": {},
   "source": [
    "## Index\n",
    "\n",
    "- [Importing AutoGluon](#Importing-AutoGluon)\n",
    "- [Getting the data](#Getting-the-data)\n",
    "- [Model training with AutoGluon using the full dataset](#Model-training-with-AutoGluon-using-the-full-dataset)\n",
    "- [Model prediction with AutoGluon](#Model-prediction-with-AutoGluon)"
   ]
  },
  {
   "cell_type": "markdown",
   "metadata": {},
   "source": [
    "---\n",
    "## Importing AutoGluon\n",
    "\n",
    "Install and load the libraries that are needed to work with the tabular dataset."
   ]
  },
  {
   "cell_type": "code",
   "execution_count": null,
   "metadata": {
    "tags": []
   },
   "outputs": [],
   "source": [
    "%%capture\n",
    "# Install libraries\n",
    "!pip install -U -q -r requirements.txt"
   ]
  },
  {
   "cell_type": "code",
   "execution_count": null,
   "metadata": {
    "tags": []
   },
   "outputs": [],
   "source": [
    "# Import libraries and utility functions\n",
    "%load_ext autoreload\n",
    "import pandas as pd\n",
    "\n",
    "# Import the newly installed AutoGluon code library\n",
    "from autogluon.tabular import TabularPredictor, TabularDataset"
   ]
  },
  {
   "cell_type": "markdown",
   "metadata": {},
   "source": [
    "---\n",
    "## Getting the data\n",
    "\n",
    "Next, load the dataset into a Pandas DataFrame and preview the first rows of data.\n",
    "\n",
    "__Note:__ You will use the [Amazon Product Reviews](https://cseweb.ucsd.edu/~jmcauley/datasets.html#amazon_reviews) dataset. For more information about this dataset, see the following resources:\n",
    "\n",
    "- Ruining He and Julian McAuley. \"Ups and Downs: Modeling the Visual Evolution of Fashion Trends with One-Class Collaborative Filtering.\" Proceedings of the 25th International Conference on World Wide Web, Geneva, Switzerland, April 2016. https://doi.org/10.1145/2872427.2883037.\n",
    "\n",
    "- Julian McAuley, Christopher Targett, Qinfeng Shi, Anton van den Hengel. \"Image-Based Recommendations on Styles and Substitutes.\" Proceedings of the 38th International Association for Computing Machinery (ACM) Special Interest Group on Information Retrieval (SIGIR) Conference on Research and Development in Information Retrieval, Santiago, Chile, August 2015. https://doi.org/10.1145/2766462.2767755."
   ]
  },
  {
   "cell_type": "code",
   "execution_count": null,
   "metadata": {
    "tags": []
   },
   "outputs": [],
   "source": [
    "df_train = TabularDataset(data=\"data/train.csv\")\n",
    "df_test = TabularDataset(data=\"data/test.csv\")"
   ]
  },
  {
   "cell_type": "code",
   "execution_count": null,
   "metadata": {
    "tags": []
   },
   "outputs": [],
   "source": [
    "df_train.head()"
   ]
  },
  {
   "cell_type": "markdown",
   "metadata": {},
   "source": [
    "---\n",
    "## Model training with AutoGluon using the full dataset\n",
    "\n",
    "Now you can use AutoGluon to train a model with the full dataset.  \n",
    "\n",
    "Remember that you only need to provide the dataset and tell AutoGluon which column from the dataset you are trying to predict.\n",
    "\n",
    "**Note:** AutoGluon uses certain defaults. For example, AutoGluon uses `root_mean_squared_error` as an evaluation metric for regression problems. For more information, see [sklearn.metrics](https://scikit-learn.org/stable/modules/classes.html#sklearn-metrics-metrics) in the sklearn documentation."
   ]
  },
  {
   "cell_type": "markdown",
   "metadata": {},
   "source": [
    "<div style=\"border: 4px solid coral; text-align: center; margin: auto;\"> \n",
    "    <h3><i>Try it yourself!</i></h3>\n",
    "    <p style=\"text-align:center; margin:auto;\"><img src=\"images/challenge.png\" alt=\"Challenge\" width=\"100\" /> </p>\n",
    "    <p style=\" text-align: center; margin: auto;\">In the following code cell, run the code to train the model with the full dataset.\n",
    "        <br><br><b>Important:</b> Use the <code>time_limit</code> parameter (in seconds) to limit the model training time to 20 minutes.\n",
    "</p>\n",
    "    <br>\n",
    "</div>"
   ]
  },
  {
   "cell_type": "markdown",
   "metadata": {},
   "source": [
    "### Why use a time limit?\n",
    "\n",
    "It shouldn't take more than 20 minutes for this model to train, but the time limit ensures that training will have enough time to create a better model without running for an undetermined amount of time. Setting the training time in this lab will allow you to work on other projects and come back when you know that training has completed.\n",
    "\n",
    "In a real-life situation, you can limit training time if you have a time or cost constraint."
   ]
  },
  {
   "cell_type": "code",
   "execution_count": null,
   "metadata": {
    "scrolled": true,
    "tags": []
   },
   "outputs": [],
   "source": [
    "############### CODE HERE ###############\n",
    "\n",
    "# Train the model with the full training dataset\n",
    "predictor = TabularPredictor(label=\"Price\").fit(train_data=df_train, time_limit=20*60)\n",
    "\n",
    "############## END OF CODE ##############"
   ]
  },
  {
   "cell_type": "markdown",
   "metadata": {},
   "source": [
    "<div style=\"border: 4px solid coral; text-align: center; margin: auto;\">\n",
    "    <h3><i>Try it yourself!</i></h3>\n",
    "    <br>\n",
    "    <p style=\"text-align:center;margin:auto;\"><img src=\"images/challenge.png\" alt=\"Challenge\" width=\"100\" /> </p>\n",
    "    <p style=\" text-align: center; margin: auto;\">In the following code cell, run the code to use Autogluon's <code>leaderboard</code> function to look at the model predictor performance.</p>\n",
    "    <br>\n",
    "</div>"
   ]
  },
  {
   "cell_type": "code",
   "execution_count": null,
   "metadata": {
    "tags": []
   },
   "outputs": [],
   "source": [
    "############### CODE HERE ###############\n",
    "\n",
    "predictor.leaderboard(silent=True)\n",
    "\n",
    "############## END OF CODE ##############"
   ]
  },
  {
   "cell_type": "markdown",
   "metadata": {},
   "source": [
    "---\n",
    "## Model prediction with AutoGluon\n",
    "\n",
    "Now that your model is trained, you can use it to predict prices.\n",
    "\n",
    "You should always run a final model performance assessment by using data that the model didn't see (the test data). Test data is not used during training and can therefore give a performance assessment. You will use the test data to make predictions and generate a prediction file in the next step."
   ]
  },
  {
   "cell_type": "markdown",
   "metadata": {},
   "source": [
    "<div style=\"border: 4px solid coral; text-align: center; margin: auto;\">\n",
    "    <h3><i>Try it yourself!</i></h3>\n",
    "    <br>\n",
    "    <p style=\"text-align:center;margin:auto;\"><img src=\"images/activity.png\" alt=\"Activity\" width=\"100\" /> </p>\n",
    "    <p style=\" text-align: center; margin: auto;\">To display part of the test dataset that you will use, run the following cell.</p>\n",
    "    <br>\n",
    "</div>"
   ]
  },
  {
   "cell_type": "code",
   "execution_count": null,
   "metadata": {
    "tags": []
   },
   "outputs": [],
   "source": [
    "# Run this cell\n",
    "\n",
    "df_test.head()"
   ]
  },
  {
   "cell_type": "markdown",
   "metadata": {},
   "source": [
    "<div style=\"border: 4px solid coral; text-align: center; margin: auto;\">\n",
    "    <h3><i>Try it yourself!</i></h3>\n",
    "    <br>\n",
    "    <p style=\"text-align:center;margin:auto;\"><img src=\"images/challenge.png\" alt=\"Challenge\" width=\"100\" /> </p>\n",
    "    <p style=\" text-align: center; margin: auto;\">In the following code cell, run the code to use your trained model to make a prediction on the test dataset and save your predictions as a list</p>\n",
    "    <br>\n",
    "</div>"
   ]
  },
  {
   "cell_type": "code",
   "execution_count": null,
   "metadata": {
    "tags": []
   },
   "outputs": [],
   "source": [
    "############### CODE HERE ###############\n",
    "\n",
    "price_prediction = predictor.predict(df_test)\n",
    "print(f\"Price predictions (first 20 predictions): {price_prediction[0:20]}\")\n",
    "\n",
    "############## END OF CODE ##############"
   ]
  },
  {
   "cell_type": "markdown",
   "metadata": {},
   "source": [
    "\n",
    "<div style=\"border: 4px solid coral; text-align: center; margin: auto;\">\n",
    "    <h3><i>Try it yourself!</i></h3>\n",
    "    <br>\n",
    "    <p style=\"text-align:center;margin:auto;\"><img src=\"images/activity.png\" alt=\"Activity\" width=\"100\" /> </p>\n",
    "    <p style=\" text-align: center; margin: auto;\">One way to share the results of predictions for tabular data is to save a file. The file can be a simple .csv file that contains an ID to identify each data sample and the prediction value itself.</p>\n",
    "    <br>\n",
    "    <p style=\" text-align: center; margin: auto;\">To save your prediction file, run the following code cell. For this example, the ID is the <b>asin</b> column.</p>\n",
    "    <br>\n",
    "</div>"
   ]
  },
  {
   "cell_type": "markdown",
   "metadata": {},
   "source": [
    "**Note:** If you haven't created the trained model to make predictions on the test dataset, you won't have the `price_prediction` DataFrame that is needed to create the prediction file. Running the following cell will generate an error. If you receive the error, use the `.predict()` function on the test dataset to create the `price_prediction` DataFrame."
   ]
  },
  {
   "cell_type": "code",
   "execution_count": null,
   "metadata": {
    "tags": []
   },
   "outputs": [],
   "source": [
    "# Define Pandas columns\n",
    "df_prediction = pd.DataFrame(columns=[\"ID\", \"Price\"])\n",
    "\n",
    "# Createthe ID column from the ID list\n",
    "df_prediction[\"ID\"] = df_test[\"asin\"].tolist()\n",
    "\n",
    "# Create label column from price prediction list\n",
    "df_prediction[\"Price\"] = price_prediction\n",
    "\n",
    "# Save as a .csv file\n",
    "df_prediction.to_csv(\"./prediction.csv\", index=False)"
   ]
  },
  {
   "cell_type": "markdown",
   "metadata": {},
   "source": [
    "Run the following cell to see what the prediction data looks like."
   ]
  },
  {
   "cell_type": "code",
   "execution_count": null,
   "metadata": {
    "tags": []
   },
   "outputs": [],
   "source": [
    "df_prediction.head()"
   ]
  },
  {
   "cell_type": "markdown",
   "metadata": {},
   "source": [
    "---\n",
    "## Conclusion\n",
    "\n",
    "You have now created a model with AutoGluon using the full dataset and made predictions using the updated model.\n",
    "\n",
    "## Next lab\n",
    "\n",
    "In the next lab, you will learn about using Jupyter notebooks for exploratory data analysis (EDA), particularly for categorical data."
   ]
  }
 ],
 "metadata": {
  "kernelspec": {
   "display_name": "conda_pytorch_p310",
   "language": "python",
   "name": "conda_pytorch_p310"
  },
  "language_info": {
   "codemirror_mode": {
    "name": "ipython",
    "version": 3
   },
   "file_extension": ".py",
   "mimetype": "text/x-python",
   "name": "python",
   "nbconvert_exporter": "python",
   "pygments_lexer": "ipython3",
   "version": "3.10.10"
  },
  "toc": {
   "base_numbering": 1,
   "nav_menu": {},
   "number_sections": true,
   "sideBar": true,
   "skip_h1_title": false,
   "title_cell": "Table of Contents",
   "title_sidebar": "Contents",
   "toc_cell": false,
   "toc_position": {},
   "toc_section_display": true,
   "toc_window_display": false
  }
 },
 "nbformat": 4,
 "nbformat_minor": 4
}
