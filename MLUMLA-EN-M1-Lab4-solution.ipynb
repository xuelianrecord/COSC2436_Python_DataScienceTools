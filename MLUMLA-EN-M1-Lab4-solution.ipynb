{
 "cells": [
  {
   "cell_type": "markdown",
   "metadata": {},
   "source": [
    "<center><img src=\"images/logo.png\" alt=\"drawing\" width=\"400\" style=\"background-color:white; padding:1em;\" /></center> <br/>\n",
    "\n",
    "# ML through Application\n",
    "## Module 1, Lab 4: Refining Models by Using AutoGluon\n",
    "\n",
    "By the end of this lab, you should be able to create a model by using [AutoGluon](https://auto.gluon.ai/stable/index.html#).\n",
    "\n",
    "You will learn how to do the following: \n",
    "\n",
    "- Identify the best model that AutoGluon outputs.\n",
    "- Use your model to create predictions.\n",
    "\n",
    "---\n",
    "\n",
    "You will explore a dataset that contains information about books. The goal is to predict book prices by using features about the books.\n",
    "\n",
    "__Business problem:__ Books from a large database with several features cannot be listed for sale because one critical piece of information is missing: the price. \n",
    "\n",
    "__ML problem description:__ Predict book prices by using book features, such as genre, release data, ratings, and number of reviews.\n",
    "\n",
    "This is a regression task (the training dataset has a book price column to use for labels).\n",
    "\n",
    "----\n",
    "\n",
    "You will be presented with two kinds of exercises throughout the notebook: activities and challenges. <br/>\n",
    "\n",
    "| <img style=\"float: center;\" src=\"images/activity.png\" alt=\"Activity\" width=\"125\"/>| <img style=\"float: center;\" src=\"images/challenge.png\" alt=\"Challenge\" width=\"125\"/>|\n",
    "| --- | --- |\n",
    "|<p style=\"text-align:center;\">No coding is needed for an activity. You try to understand a concept, <br/>answer questions, or run a code cell.</p> |<p style=\"text-align:center;\">Challenges are where you can practice your coding skills.</p>"
   ]
  },
  {
   "cell_type": "markdown",
   "metadata": {},
   "source": [
    "## Index\n",
    "\n",
    "- [Importing AutoGluon](#Importing-AutoGluon)\n",
    "- [Getting the data](#Getting-the-data)\n",
    "- [Model training with AutoGluon](#Model-training-with-AutoGluon)\n",
    "- [AutoGluon training results](#AutoGluon-training-results)\n",
    "- [Model prediction with AutoGluon](#Model-prediction-with-AutoGluon)"
   ]
  },
  {
   "cell_type": "markdown",
   "metadata": {},
   "source": [
    "---\n",
    "## Importing AutoGluon\n",
    "\n",
    "Install and load the libraries that are needed to work with the tabular dataset."
   ]
  },
  {
   "cell_type": "code",
   "execution_count": null,
   "metadata": {
    "tags": []
   },
   "outputs": [],
   "source": [
    "%%capture\n",
    "# Install libraries\n",
    "!pip install -U -q -r requirements.txt"
   ]
  },
  {
   "cell_type": "code",
   "execution_count": null,
   "metadata": {
    "tags": []
   },
   "outputs": [],
   "source": [
    "# Import libraries and utility functions\n",
    "%load_ext autoreload\n",
    "import pandas as pd\n",
    "# Import the newly installed AutoGluon code library\n",
    "from autogluon.tabular import TabularPredictor, TabularDataset"
   ]
  },
  {
   "cell_type": "markdown",
   "metadata": {},
   "source": [
    "## Getting the data\n",
    "\n",
    "Next, load the dataset into a Pandas DataFrame and preview the first rows of data.\n",
    "\n",
    "__Note:__ You will use the [Amazon Product Reviews](https://cseweb.ucsd.edu/~jmcauley/datasets.html#amazon_reviews) dataset. For more information about this dataset, see the following resources:\n",
    "\n",
    "- Ruining He and Julian McAuley. \"Ups and Downs: Modeling the Visual Evolution of Fashion Trends with One-Class Collaborative Filtering.\" Proceedings of the 25th International Conference on World Wide Web, Geneva, Switzerland, April 2016. https://doi.org/10.1145/2872427.2883037.\n",
    "\n",
    "- Julian McAuley, Christopher Targett, Qinfeng Shi, Anton van den Hengel. \"Image-Based Recommendations on Styles and Substitutes.\" Proceedings of the 38th International Association for Computing Machinery (ACM) Special Interest Group on Information Retrieval (SIGIR) Conference on Research and Development in Information Retrieval, Santiago, Chile, August 2015. https://doi.org/10.1145/2766462.2767755."
   ]
  },
  {
   "cell_type": "code",
   "execution_count": null,
   "metadata": {
    "tags": []
   },
   "outputs": [],
   "source": [
    "df_train = TabularDataset(data=\"data/train.csv\")\n",
    "df_test = TabularDataset(data=\"data/test.csv\")"
   ]
  },
  {
   "cell_type": "code",
   "execution_count": null,
   "metadata": {
    "tags": []
   },
   "outputs": [],
   "source": [
    "df_train.head()"
   ]
  },
  {
   "cell_type": "markdown",
   "metadata": {},
   "source": [
    "## Model training with AutoGluon\n",
    "\n",
    "Finally, create a subset of the training data and use it to train a model by using AutoGluon.  \n",
    "\n",
    "Remember that you only need to provide the dataset and tell AutoGluon which column from the dataset you are trying to predict."
   ]
  },
  {
   "cell_type": "code",
   "execution_count": null,
   "metadata": {
    "tags": []
   },
   "outputs": [],
   "source": [
    "# Sampling 1,000\n",
    "subsample_size = 1000  # Sample a subset of data for faster demo\n",
    "df_train_smaller = df_train.sample(n=subsample_size, random_state=0)\n",
    "\n",
    "# Print the first rows\n",
    "df_train_smaller.head()"
   ]
  },
  {
   "cell_type": "markdown",
   "metadata": {},
   "source": [
    "### Training a model with the small sample\n",
    "\n",
    "AutoGluon uses certain defaults. For example, AutoGluon uses `root_mean_squared_error` as an evaluation metric for regression problems. For more information, see [sklearn.metrics](https://scikit-learn.org/stable/modules/classes.html#sklearn-metrics-metrics) in the sklearn documentation.\n",
    "\n",
    "__Note:__ Training on this smaller dataset might take approximately 3–4 minutes."
   ]
  },
  {
   "cell_type": "code",
   "execution_count": null,
   "metadata": {
    "tags": []
   },
   "outputs": [],
   "source": [
    "# Run this cell\n",
    "\n",
    "smaller_predictor = TabularPredictor(label=\"Price\").fit(train_data=df_train_smaller)"
   ]
  },
  {
   "cell_type": "markdown",
   "metadata": {},
   "source": [
    "Now the data is loaded, and a model has been trained."
   ]
  },
  {
   "cell_type": "markdown",
   "metadata": {},
   "source": [
    "## AutoGluon training results\n",
    "\n",
    "Now you will look at the information that AutoGluon provides through its `leaderboard` function. The `leaderboard` function is a summary of all models that AutoGluon trained.\n",
    "\n",
    "**Note:** Because AutoGluon only maximizes metrics, you will see a negative root mean squared error (RMSE) value, for prioritization purposes only."
   ]
  },
  {
   "cell_type": "markdown",
   "metadata": {},
   "source": [
    "<div style=\"border: 4px solid coral; text-align: center; margin: auto;\">\n",
    "    <h3><i>Try it yourself!</i></h3>\n",
    "    <br>\n",
    "    <p style=\"text-align:center; margin:auto;\"><img src=\"images/activity.png\" alt=\"Activity\" width=\"100\" /> </p>\n",
    "    <p style=\"text-align: center; margin: auto;\">To look more closely at the output of the AutoGluon <code>leaderboard</code> function, run the following cell.</p>\n",
    "    <br>\n",
    "</div>"
   ]
  },
  {
   "cell_type": "code",
   "execution_count": null,
   "metadata": {
    "tags": []
   },
   "outputs": [],
   "source": [
    "# Run this cell to see the model leaderboard\n",
    "smaller_predictor.leaderboard(silent=True)"
   ]
  },
  {
   "cell_type": "markdown",
   "metadata": {},
   "source": [
    "### Interpreting the RMSE value\n",
    "\n",
    "The root mean squared error (RMSE) that is used here has nice interpretability. Because you are predicting prices, the values that are expressed in the __score\\_val__ column of the leaderboard output can give you an idea of the amount of error that is related to the predictions. For example, if score\\_val = 0.24, the average error for book price predictions will be about 24 cents."
   ]
  },
  {
   "cell_type": "markdown",
   "metadata": {},
   "source": [
    "<div style=\"border: 4px solid coral; text-align: center; margin: auto;\"> \n",
    "    <h3><i>Try it yourself!</i></h3>\n",
    "    <p style=\"text-align:center; margin:auto;\"><img src=\"images/challenge.png\" alt=\"Challenge\" width=\"100\" /> </p>\n",
    "    <p style=\" text-align: center; margin: auto;\">Which model is the best?<br>\n",
    "    Choose the model that you think is the best, and justify your choice with data in the following cell.</p>\n",
    "    <br>\n",
    "</div>\n"
   ]
  },
  {
   "cell_type": "markdown",
   "metadata": {},
   "source": [
    "**Challenge answer**\n",
    "\n",
    "Enter your answer here for the challenge.\n",
    "\n",
    "<!-- SOLUTION -->\n",
    "<div style=\"border: 4px solid coral; text-align: center;\"> \n",
    "    <h3><i>There is no unique answer!</i></h3>\n",
    "    <p style=\" text-align: left; margin-left: 25px; margin-right: 25px; margin-top: 25px; margin-bottom: 25px;\">The business problem defines how to balance the acceptable model performance (expressed by its score here), and the time involved in training and predicting (in general, associated with cost or latency problems). A solution should balance three dimensions: performance, training time, and prediction time.\n",
    "<br/><br/>\n",
    "The business problem defines the acceptable minimum performance and the cost in time to pay for that. Looking at the `leaderboard` function output, you need to balance the validation performance, which is expressed in the <b>score_val</b> column, against the prediction time, which is expressed in the <b>pred_time_val</b> column (if latency is a limitation, as in real-time prediction), or the training time, which is shown in the <b>fit_time</b> column (if the training time is a limitation). (Training time limitations are usually related to cost. For example, you need to train a model for several days by using expensive GPU machines.)\n",
    "<br/><br/>\n",
    "As an example, in the output, you can see that WeightedEnsemble_L2 model has similar performance to CatBoost. However, CatBoost has significantly lower prediction time (`pred_time_val`). Therefore, if latency is a problem, CatBoost should be your choice.</p>\n",
    "    <br/>\n",
    "</div>\n",
    "<!-- END SOLUTION -->"
   ]
  },
  {
   "cell_type": "markdown",
   "metadata": {},
   "source": [
    "## Model prediction with AutoGluon\n",
    "\n",
    "Now that your model is trained, you can use it to predict prices.\n",
    "\n",
    "You should always run a final model performance assessment by using data that the model didn't see (the test data). Test data is not used during training and can therefore give a performance assessment. You will use the test data to make predictions in the next step."
   ]
  },
  {
   "cell_type": "markdown",
   "metadata": {},
   "source": [
    "<div style=\"border: 4px solid coral; text-align: center; margin: auto;\">\n",
    "    <h3><i>Try it Yourself!</i></h3>\n",
    "    <br>\n",
    "    <p style=\"text-align:center;margin:auto;\"><img src=\"images/activity.png\" alt=\"Activity\" width=\"100\" /> </p>\n",
    "    <p style=\" text-align: center; margin: auto;\">To show the first rows of the test dataset, which you will use to predict prices, run the following cell.\n",
    "        </p>\n",
    "    <br>\n",
    "</div>"
   ]
  },
  {
   "cell_type": "code",
   "execution_count": null,
   "metadata": {
    "tags": []
   },
   "outputs": [],
   "source": [
    "# Run this cell\n",
    "\n",
    "df_test.head()"
   ]
  },
  {
   "cell_type": "markdown",
   "metadata": {},
   "source": [
    "<div style=\"border: 4px solid coral; text-align: center; margin: auto;\"> \n",
    "    <h3><i>Try it Yourself!</i></h3>\n",
    "    <p style=\"text-align:center; margin:auto;\"><img src=\"images/challenge.png\" alt=\"Challenge\" width=\"100\" /> </p>\n",
    "    <p style=\" text-align: center; margin: auto;\">Use this test dataset as input to the model that you just trained. Use the model to predict book prices. Use the following cell to run the appropriate code.<br><br>\n",
    "    <b>Tip:</b> For information about the <code>predict</code> function, see <a href=\"https://auto.gluon.ai/0.6.2/api/autogluon.predictor.html\">AutoGluon Predictors</a> in the AutoGluon documentation.</p>\n",
    "    <br>\n",
    "</div>\n"
   ]
  },
  {
   "cell_type": "code",
   "execution_count": null,
   "metadata": {
    "tags": []
   },
   "outputs": [],
   "source": [
    "############### CODE HERE ###############\n",
    "\n",
    "price_prediction = smaller_predictor.predict(df_test)\n",
    "print(f\"Price predictions (first 20 predictions): {price_prediction[0:20]}\")\n",
    "\n",
    "############## END OF CODE ##############"
   ]
  },
  {
   "cell_type": "markdown",
   "metadata": {},
   "source": [
    "----\n",
    "## Conclusion\n",
    "\n",
    "You have now created a model by using AutoGluon, seen how to identify the best model version, and made predictions by using the model.\n",
    "\n",
    "## Next lab\n",
    "In the next lab, you will explore some of the advanced features of AutoGluon to refine your model."
   ]
  }
 ],
 "metadata": {
  "kernelspec": {
   "display_name": "conda_pytorch_p310",
   "language": "python",
   "name": "conda_pytorch_p310"
  },
  "language_info": {
   "codemirror_mode": {
    "name": "ipython",
    "version": 3
   },
   "file_extension": ".py",
   "mimetype": "text/x-python",
   "name": "python",
   "nbconvert_exporter": "python",
   "pygments_lexer": "ipython3",
   "version": "3.10.10"
  },
  "toc": {
   "base_numbering": 1,
   "nav_menu": {},
   "number_sections": true,
   "sideBar": true,
   "skip_h1_title": false,
   "title_cell": "Table of Contents",
   "title_sidebar": "Contents",
   "toc_cell": false,
   "toc_position": {},
   "toc_section_display": true,
   "toc_window_display": false
  }
 },
 "nbformat": 4,
 "nbformat_minor": 4
}
