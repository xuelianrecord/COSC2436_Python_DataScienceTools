{
 "cells": [
  {
   "cell_type": "markdown",
   "metadata": {},
   "source": [
    "<center><img src=\"images/logo.png\" alt=\"drawing\" width=\"400\" style=\"background-color:white; padding:1em;\" /></center> <br/>\n",
    "\n",
    "# ML through Application \n",
    "## Module 1, Lab 1: Getting Started with Jupyter Notebooks\n",
    "\n",
    "Jupyter notebooks are a critical tool for developing ML projects. By the end of this notebook, you should be able to effectively navigate a Jupyter notebook.\n",
    "\n",
    "You will learn the following:\n",
    "\n",
    "- What a kernel is\n",
    "- The difference between the menu bar and the toolbar\n",
    "- The difference between code and Markdown cells\n",
    "- How to write math in Markdown cells\n",
    "- How to write Python in code cells\n",
    "- The run flow of notebooks\n",
    "\n",
    "__Note:__ These lab instructions are written for using Jupyter, not JupyterLab. You might encounter differences in the UI if you run this lab in JupyterLab.\n",
    "\n",
    "----\n",
    "\n",
    "You will be presented with two kinds of exercises throughout the notebook: activities and challenges. <br/>\n",
    "\n",
    "| <img style=\"float: center;\" src=\"images/activity.png\" alt=\"Activity\" width=\"125\"/>| <img style=\"float: center;\" src=\"images/challenge.png\" alt=\"Challenge\" width=\"125\"/>|\n",
    "| --- | --- |\n",
    "|<p style=\"text-align:center;\"> No coding is needed for an activity. You try to understand a concept, <br/>answer questions, or run a code cell.</p> |<p style=\"text-align:center;\">Challenges are where you can practice your coding skills.</p>"
   ]
  },
  {
   "cell_type": "markdown",
   "metadata": {},
   "source": [
    "## Index\n",
    "\n",
    "- [Jupyter Notebook application interface](#Jupyter-Notebook-application-interface)\n",
    "- [Kernel](#Kernel)\n",
    "- [Cells](#Cells)\n",
    "- [Jupyter notebook run flow](#Jupyter-notebook-run-flow)"
   ]
  },
  {
   "cell_type": "markdown",
   "metadata": {},
   "source": [
    "---\n",
    "## Jupyter Notebook application interface"
   ]
  },
  {
   "cell_type": "markdown",
   "metadata": {},
   "source": [
    "A Jupyter notebook has a few key elements:\n",
    "\n",
    "![image.png](attachment:image.png \"Jupyter key elements\")"
   ]
  },
  {
   "cell_type": "markdown",
   "metadata": {},
   "source": [
    "### Notebook name\n",
    "\n",
    "This is the name of the notebook. A new notebook is named __Untitled__ by default, but you can change it at anytime."
   ]
  },
  {
   "attachments": {
    "Screen%20Shot%202022-08-30%20at%201.54.29%20PM.png": {
     "image/png": "[encoded data removed]"
    }
   },
   "cell_type": "markdown",
   "metadata": {
    "jp-MarkdownHeadingCollapsed": true,
    "tags": []
   },
   "source": [
    "### Menu bar\n",
    "\n",
    "![Screen%20Shot%202022-08-30%20at%201.54.29%20PM.png](attachment:Screen%20Shot%202022-08-30%20at%201.54.29%20PM.png)\n",
    "\n",
    "The menu bar contains multiple menus:\n",
    "\n",
    "- **File:** Options at the file (notebook) level\n",
    "- **Edit:** Cell options\n",
    "- **View:** Toggle options for the notebook view\n",
    "- **Insert:** Insert a cell above or below the selected cell\n",
    "- **Cell:** Cell-level run commands\n",
    "- **Kernel:** Kernel runtime commands\n",
    "- **Widgets:** Widget options (outside the scope of this document)\n",
    "- **Help:** Help resources and references"
   ]
  },
  {
   "cell_type": "markdown",
   "metadata": {},
   "source": [
    "### Toolbar\n",
    "\n",
    "![Screen%20Shot%202022-08-30%20at%201.54.38%20PM.png](attachment:Screen%20Shot%202022-08-30%20at%201.54.38%20PM.png \"Toolbar1\")\n",
    "\n",
    "The toolbar has a series of cell-level commands. Use the toolbar to perform actions such as running, stopping, or deleting a cell, or changing the type of a cell. You will learn more about cells in the following sections."
   ]
  },
  {
   "cell_type": "markdown",
   "metadata": {},
   "source": [
    "<div style=\"border: 4px solid coral; text-align:center; margin:auto;\">\n",
    "    <h3><i>Try it yourself!</i></h3>\n",
    "    <br>\n",
    "    <p style=\"text-align:center;margin:auto;\"><img src=\"images/activity.png\" alt=\"Activity\" width=\"100\" /> </p>\n",
    "    <p style=\"text-align:center;margin: auto;\">Select the following cell. To run the cell and move to the next cell, choose <b>Run</b> on the toolbar OR press Shift+Enter.</p>\n",
    "    <br>\n",
    "</div>"
   ]
  },
  {
   "cell_type": "code",
   "execution_count": null,
   "metadata": {},
   "outputs": [],
   "source": [
    "print(\"My first code cell!\")"
   ]
  },
  {
   "cell_type": "markdown",
   "metadata": {},
   "source": [
    "Now you will import some libraries that you need for this notebook. You will learn more about importing libraries later."
   ]
  },
  {
   "cell_type": "markdown",
   "metadata": {},
   "source": [
    "\n",
    "<div style=\"border: 4px solid coral; text-align: center; margin: auto;\">\n",
    "    <h3><i>Try it yourself!</i></h3>\n",
    "    <br>\n",
    "    <p style=\"text-align:center;margin:auto;\"><img src=\"images/activity.png\" alt=\"Activity\" width=\"100\" /> </p>\n",
    "    <p style=\" text-align: center; margin: auto;\">Select the following cell. To run the cell and move to the next cell, choose <b>Run</b> on the toolbar OR press Shift+Enter.</p>\n",
    "    <br>\n",
    "</div>"
   ]
  },
  {
   "cell_type": "code",
   "execution_count": null,
   "metadata": {},
   "outputs": [],
   "source": [
    "import time\n",
    "\n",
    "from MLUMLA_EN_M1_Lab1_quiz_questions import *"
   ]
  },
  {
   "cell_type": "markdown",
   "metadata": {},
   "source": [
    "### Cell status\n",
    "\n",
    "After you run a cell, how do you know that it finished running?\n",
    "\n",
    "On the left side of each cell is a number inside brackets, like this: <font color=darkblue>`In [3]`</font>.\n",
    "\n",
    "Each time that you run a cell, this value changes. This is because your notebook keeps track of the order that you run cells in. The number inside the brackets is where that cell was run in the order of cells in your notebook.\n",
    "\n",
    "You will learn more about this in the <a href=\"#Jupyter-notebook-run-flow\">Run Flow</a> section of this notebook."
   ]
  },
  {
   "cell_type": "markdown",
   "metadata": {},
   "source": [
    "<div style=\"border: 4px solid coral; text-align: center; margin: auto;\">\n",
    "    <h3><i>Try it yourself!</i></h3>\n",
    "    <br>\n",
    "    <p style=\"text-align:center;margin:auto;\"><img src=\"images/activity.png\" alt=\"Activity\" width=\"100\" /> </p>\n",
    "    <p style=\"text-align: center; margin: auto;\">Select and run the following cell. Repeat this a few times to see the number in brackets increase with each run.</p><br>\n",
    "    <p style=\"text-align: center; margin: auto;\"><b>Tip:</b> To run the selected cell without moving to the next cell, press Ctrl+Enter (Windows) or Cmd+Enter (Mac).</p>\n",
    "    <br>\n",
    "</div>"
   ]
  },
  {
   "cell_type": "code",
   "execution_count": null,
   "metadata": {},
   "outputs": [],
   "source": [
    "print(\n",
    "    \"Run this cell multiple times. Do you notice how the number in brackets changes?\"\n",
    ")"
   ]
  },
  {
   "cell_type": "markdown",
   "metadata": {
    "tags": []
   },
   "source": [
    "### Cells that take longer to run\n",
    "\n",
    "When a cell runs code that takes a noticeable amount of time to run, instead of the next sequential number appearing immediately in the brackets, an asterisk appears, like this: <font color=darkblue>`In [*]`</font>. When the cell is finished running, the asterisk updates to a number. The asterisk provides a helpful way to see if a cell is still running.\n",
    "\n",
    "You can select multiple cells and run them. Jupyter will automatically run each cell in the set order, rather than running the cells at the same time. Look for the asterisk to see which cell is currently running.\n",
    "\n",
    "**Tip:** Another way to see if any cell is running in the notebook is to look at the small circle at the top-right corner, next to the kernel name. If the circle is filled, one or more cells are currently running."
   ]
  },
  {
   "cell_type": "markdown",
   "metadata": {},
   "source": [
    "<div style=\"border: 4px solid coral; text-align: center; margin: auto;\">\n",
    "    <h3><i>Try it yourself!</i></h3>\n",
    "    <br>\n",
    "    <p style=\"text-align:center;margin:auto;\"><img src=\"images/activity.png\" alt=\"Activity\" width=\"100\" /> </p>\n",
    "    <p style=\" text-align: center; margin: auto;\">Select and run the following cell. Notice that the asterisk appears in the brackets for a few seconds.</p>\n",
    "    <br>\n",
    "</div>"
   ]
  },
  {
   "cell_type": "code",
   "execution_count": null,
   "metadata": {},
   "outputs": [],
   "source": [
    "time.sleep(5)\n",
    "print(\"If you didn't see the asterisk, run this cell again.\")"
   ]
  },
  {
   "cell_type": "markdown",
   "metadata": {},
   "source": [
    "<div style=\"border: 4px solid coral; text-align: center; margin: auto;\">\n",
    "    <h3><i>It's time to check your knowledge!</i></h3>\n",
    "    <br>\n",
    "    <p style=\" text-align: center; margin: auto;\">To load the question, run the following cell.</p>\n",
    "    <br>\n",
    "</div> "
   ]
  },
  {
   "cell_type": "code",
   "execution_count": null,
   "metadata": {},
   "outputs": [],
   "source": [
    "# Run this cell for a knowledge check question\n",
    "question_1"
   ]
  },
  {
   "cell_type": "markdown",
   "metadata": {
    "toc-hr-collapsed": true
   },
   "source": [
    "---\n",
    "\n",
    "## Kernel\n",
    "\n",
    "In the context of Jupyter notebooks, the kernel is the computational engine that runs the code that is contained in a notebook. The kernel type is displayed in the top-right corner. The kernel is the programming language plus the environment (and dependencies) that the notebook uses to run code.\n",
    "\n",
    "Use the **Kernel** menu in the menu bar to make notebook-wide changes to your code, such as restarting every cell or interrupting the kernel (stopping a cell if it takes too long to run)."
   ]
  },
  {
   "cell_type": "markdown",
   "metadata": {},
   "source": [
    "You can run the whole notebook in a single step by choosing **Cell** > **Run All** (in JupyterLab, choose **Run** > **Run All Cells**).\n",
    "\n",
    "To restart the kernel, choose **Kernel** > **Restart** OR press 0,0. This can be useful to restart a computation (for example, if variables are deleted or open files are closed).\n",
    "\n",
    "__Important:__ Restarting the kernel will reset the notebook and remove all variables or methods that you've defined.\n",
    "\n",
    "To change the kernel version for a notebook, choose **Kernel** > **Change kernel** and select the kernel to use.\n",
    "\n",
    "To interrupt a calculation that is taking too long, choose **Kernel** > **Interrupt** OR press i,i."
   ]
  },
  {
   "cell_type": "markdown",
   "metadata": {},
   "source": [
    "<div style=\"border: 4px solid coral; text-align: center; margin: auto;\">\n",
    "    <h3><i>It's time to check your knowledge!</i></h3>\n",
    "    <br>\n",
    "    <p style=\" text-align: center; margin: auto;\">To load the question, run the following cell.</p>\n",
    "    <br>\n",
    "</div> "
   ]
  },
  {
   "cell_type": "code",
   "execution_count": null,
   "metadata": {},
   "outputs": [],
   "source": [
    "# Run this cell for a knowledge check question\n",
    "question_2"
   ]
  },
  {
   "cell_type": "markdown",
   "metadata": {
    "tags": []
   },
   "source": [
    "---\n",
    "## Cells\n",
    "\n",
    "Cells form the body of a notebook, and they are the atomic units of code in a notebook. A notebook has two main cell types:\n",
    "- **Markdown cells:** A Markdown cell contains text that is formatted using Markdown. This type of cell is typically used to display text, images, and equations. You can use Markdown cells to document your work so that you and others can understand the notebook.\n",
    "- **Code cells:** A code cell contains code to be run in the kernel. When the code is run, the notebook displays the output after the code cell that generated it."
   ]
  },
  {
   "cell_type": "markdown",
   "metadata": {
    "tags": [],
    "toc-hr-collapsed": true
   },
   "source": [
    "### Markdown cells\n",
    "\n",
    "#### Standard Markdown\n",
    "\n",
    "To create a new Markdown cell, create a cell. Then, select the cell and choose **Cell** > **Cell Type** > **Markdown** OR choose the Markdown option in the toolbar, as shown in the following image:\n",
    "![toolbar.png](attachment:toolbar.png \"Toolbar\")\n",
    "\n",
    "Markdown cells are used to write text by using Markdown. Markdown is a markup language to format plain text. You can use certain symbols to format or render text in specific ways. For example, the following text:\n",
    "\n",
    "`# Level 1 Heading`\n",
    "\n",
    "will render as a heading, like this:\n",
    "\n",
    "# Level 1 Heading\n",
    "\n",
    "And the following text:\n",
    "\n",
    "`Add emphasis with **bold** and __bold__, or *italic* and _italic_.`\n",
    "\n",
    "will render with bold and italic formatting, like this:\n",
    "\n",
    "Add emphasis with **bold** and __bold__, or *italic* and _italic_.\n",
    "\n",
    "You can also create lists using:\n",
    "\n",
    "- Item 1\n",
    "- Item 2\n",
    "- Item 3\n",
    "\n",
    "or\n",
    "\n",
    "1. Item a\n",
    "1. Item b\n",
    "1. Item c\n",
    "\n",
    "A full tutorial for Markdown is outside the scope of this lab, but for more information, see the [Markdown Guide site](https://www.markdownguide.org)."
   ]
  },
  {
   "cell_type": "markdown",
   "metadata": {},
   "source": [
    "<div style=\"border: 4px solid coral; text-align: center; margin: auto;\"> \n",
    "    <h4><i>Try it yourself!</i></h4>\n",
    "    <p style=\"text-align:center; margin:auto;\"><img src=\"images/challenge.png\" alt=\"Challenge\" width=\"100\" /> </p>\n",
    "    <p style=\"text-align:center; margin:auto;\">It's time to practice! In the next cell, use Markdown to replicate the rendered Markdown that is shown in the following screenshot.</p>\n",
    "    <br>\n",
    "</div>\n",
    "\n",
    "<div>\n",
    "<img src=\"attachment:markdown1.png\" alt=\"Rendered Markdown\" width=\"700\"/>\n",
    "</div>"
   ]
  },
  {
   "cell_type": "markdown",
   "metadata": {},
   "source": [
    "########## EDIT THIS AREA WITH YOUR MARKDOWN SOLUTION ##########\n",
    "\n",
    "# I accept the challenge!\n",
    "## We can have headings at several levels\n",
    "### We can have headings at several levels\n",
    "#### We can have headings at several levels\n",
    "##### We can have headings at several levels\n",
    "\n",
    "As well as adding emphasis via __bold text__ and also _italic text_. \n",
    "\n",
    "Using Markdown is useful by:\n",
    "- Helping people better understand the code implemented\n",
    "- Adding references and additional content to help understand the conceptual context related to the code\n",
    "\n",
    "And to master markdown, as any other knowledge, we need to follow these steps:\n",
    "1. Learn the concept\n",
    "2. Practice\n",
    "3. And practice\n",
    "4. And more practice\n",
    "\n",
    "########## END OF MARKDOWN SOLUTION AREA ##########"
   ]
  },
  {
   "cell_type": "markdown",
   "metadata": {},
   "source": [
    "#### Writing equations in Markdown\n",
    "\n",
    "You can add equations to Markdown by writing LaTeX inside of `$` symbols. For example:\n",
    "\n",
    "`$ y = \\beta_{0} + 2\\beta_1^2 $`\n",
    "\n",
    "will render as the following:\n",
    "\n",
    "$ y = \\beta_{0} + 2\\beta_1^2 $\n",
    "\n",
    "Jupyter uses MathJax to render equations. For information about the available equations and symbols, see [MathJax TeX and LaTeX Support](https://docs.mathjax.org/en/v2.7-latest/tex.html)."
   ]
  },
  {
   "cell_type": "markdown",
   "metadata": {},
   "source": [
    "<div style=\"border: 4px solid coral; text-align: center; margin: auto;\"> \n",
    "    <h4><i>Try it yourself!</i></h4>\n",
    "    <p style=\"text-align:center; margin:auto;\"><img src=\"images/challenge.png\" alt=\"Challenge\" width=\"100\" /> </p>\n",
    "    <p style=\"text-align:center; margin:auto;\">It's time to practice! In the next cell, try to replicate the explanation of the Drake equation from the following image. (You don't need to replicate the border around the text.)</p>\n",
    "    <br>\n",
    "</div>\n",
    "\n",
    "<div>\n",
    "<img src=\"attachment:DrakeEquation.png\" width=\"900\"/>\n",
    "</div>"
   ]
  },
  {
   "cell_type": "markdown",
   "metadata": {},
   "source": [
    "########## EDIT THIS AREA WITH YOUR MARKDOWN SOLUTION ##########\n",
    "\n",
    "#### The Drake Equation\n",
    "\n",
    "The Drake Equation is used to estimate the number of active, communicative extraterrestrial civilizations in the Milky Way Galaxy.\n",
    "\n",
    "The Drake equation is:\n",
    "\n",
    "$ N = R_∗ \\cdot f_{\\mathrm {p} } \\cdot n_{\\mathrm {e} }\\cdot f_{\\mathrm {l} }\\cdot f_{\\mathrm {i} }\\cdot f_{\\mathrm {c} }\\cdot L $\n",
    "    \n",
    "where\n",
    "+ $N$ = the number of civilizations in the Milky Way galaxy with which communication might be possible (i.e. which are on the current past light cone);\n",
    "\n",
    "and\n",
    "\n",
    "+ $R_∗$ = the average rate of star formation in our Galaxy<br>\n",
    "+ $f_{\\mathrm {p} }$ = the fraction of those stars that have planets<br>\n",
    "+ $n_{\\mathrm {e} }$ = the average number of planets that can potentially support life per star that has planets<br>\n",
    "+ $f_{\\mathrm {l} }$ = the fraction of planets that could support life that actually develop life at some point<br>\n",
    "+ $f_{\\mathrm {i} }$ = the fraction of planets with life that actually go on to develop intelligent life (civilizations)<br>\n",
    "+ $f_{\\mathrm {c} }$ = the fraction of civilizations that develop a technology that releases detectable signs of their existence into space<br>\n",
    "+ $L$ = the length of time for which such civilizations release detectable signals into space\n",
    "\n",
    "########## END OF MARKDOWN SOLUTION AREA ##########"
   ]
  },
  {
   "cell_type": "markdown",
   "metadata": {},
   "source": [
    "### Code cells\n",
    "\n",
    "A code cell contains code to be run in the kernel. When the code is run, the notebook displays the output after the code cell that generated it.\n",
    "\n",
    "You can write Python code in a code cell. The following cell provides an example:"
   ]
  },
  {
   "cell_type": "code",
   "execution_count": null,
   "metadata": {
    "tags": []
   },
   "outputs": [],
   "source": [
    "# This is a comment in a code cell\n",
    "# Run this cell to see what it outputs\n",
    "x = 5\n",
    "powers_of_five = [x ** i for i in range(5)]\n",
    "print(powers_of_five)"
   ]
  },
  {
   "cell_type": "markdown",
   "metadata": {},
   "source": [
    "<div style=\"border: 4px solid coral; text-align: center; margin: auto;\"> \n",
    "    <h4><i>Try it yourself!</i></h4>\n",
    "    <p style=\"text-align:center; margin:auto;\"><img src=\"images/challenge.png\" alt=\"Challenge\" width=\"100\" /> </p>\n",
    "    <p style=\"text-align:center; margin:auto;\">It's time to practice! In the next cell, define the <code>myname</code> variable in Python, and give it the value of your name.</p>\n",
    "    <br>\n",
    "</div>"
   ]
  },
  {
   "cell_type": "code",
   "execution_count": null,
   "metadata": {},
   "outputs": [],
   "source": [
    "# Create the myname variable here\n",
    "############### CODE HERE ###############\n",
    "\n",
    "myname = \"Machine Lonnie\"\n",
    "\n",
    "############## END OF CODE ##############"
   ]
  },
  {
   "cell_type": "markdown",
   "metadata": {},
   "source": [
    "To test whether you defined the variable correctly, run the following cell."
   ]
  },
  {
   "cell_type": "code",
   "execution_count": null,
   "metadata": {},
   "outputs": [],
   "source": [
    "try:\n",
    "    print(f\"Hello, {myname}!\")\n",
    "except NameError as e:\n",
    "    print(e.args[0] + \". Make sure that you define the variable above.\")"
   ]
  },
  {
   "cell_type": "markdown",
   "metadata": {},
   "source": [
    "You can use code cells for any common Python tasks. For example, you will often want to load (import) libraries into the kernel. To import a library, use the `import` command, as shown in the following cell."
   ]
  },
  {
   "cell_type": "code",
   "execution_count": null,
   "metadata": {},
   "outputs": [],
   "source": [
    "# Load Pandas and make a DataFrame for the powers of five\n",
    "import pandas as pd\n",
    "\n",
    "powers_of_five_df = pd.DataFrame({\"power\": powers_of_five})\n",
    "powers_of_five_df"
   ]
  },
  {
   "cell_type": "markdown",
   "metadata": {},
   "source": [
    "Notice that the code cell referred to `powers_of_five`, which was defined in a previous cell. Cells can access values in the global environment that were defined in other cells. Just make sure to run the cells in the correct order!"
   ]
  },
  {
   "cell_type": "markdown",
   "metadata": {},
   "source": [
    "Another common task is to load external files. You can load external files as with any other Python script: through relative paths for local files, URL paths for web-hosted files, or Amazon Simple Storage Service (Amazon S3) buckets.\n",
    "\n",
    "In the following cell, you will open a local file, which is in the same folder as this notebook, and load it into a Pandas DataFrame.\n",
    "\n",
    "**Note:** The dataset in the file was adapted from the [Austin Animal Center Shelter Intakes and Outcomes dataset](https://www.kaggle.com/datasets/aaronschlegel/austin-animal-center-shelter-intakes-and-outcomes)."
   ]
  },
  {
   "cell_type": "code",
   "execution_count": null,
   "metadata": {
    "tags": []
   },
   "outputs": [],
   "source": [
    "# Use Pandas, which you imported earlier, to load a .csv file of a pet adoption dataset indo a Pandas DataFrame\n",
    "petsDataframe = pd.read_csv(\"data/review_dataset.csv\")\n",
    "\n",
    "# Display the first seven rows of the Pandas DataFrame\n",
    "petsDataframe.head(7)"
   ]
  },
  {
   "cell_type": "markdown",
   "metadata": {},
   "source": [
    "Pandas has useful functionality for working with data. You can easily subset, reshape, calculate statistics, carry out feature engineering, or even plot data easily.\n",
    "\n",
    "In the following cell, you will display a scatterplot for two selected columns in the Pandas DataFrame that you loaded previously."
   ]
  },
  {
   "cell_type": "code",
   "execution_count": null,
   "metadata": {},
   "outputs": [],
   "source": [
    "# How does the age at intake comare to the outcome age\n",
    "petsDataframe.plot.scatter(\n",
    "    x=\"Age upon Intake Days\",\n",
    "    y=\"Age upon Outcome Days\",\n",
    "    title=\"Pet Intake Age Compared to Outcome Age\",\n",
    ")"
   ]
  },
  {
   "cell_type": "markdown",
   "metadata": {},
   "source": [
    "<div style=\"border: 4px solid coral; text-align: center; margin: auto;\"> \n",
    "    <h4><i>Try it yourself!</i></h4>\n",
    "    <p style=\"text-align:center; margin:auto;\"><img src=\"images/challenge.png\" alt=\"Challenge\" width=\"100\" /> </p>\n",
    "    <p style=\" text-align: center; margin: auto;\">In the next cell, use <code>petsDataframe</code> to calculate the <code>mean Age upon Outcome Days</code> for each <code>Intake Condition</code>.</p>\n",
    "        <br>\n",
    "    <p style=\" text-align: center; margin: auto;\"><b>Tip:</b> Read the <a href=\"https://pandas.pydata.org/docs/getting_started/intro_tutorials/index.html\">Getting Started Tutorials for Pandas</a>.</p>\n",
    "    <br>\n",
    "</div>"
   ]
  },
  {
   "cell_type": "code",
   "execution_count": null,
   "metadata": {},
   "outputs": [],
   "source": [
    "# Use petsDataframe to calculate the mean Age upon Outcome Days for each Intake Condition\n",
    "############### CODE HERE ###############\n",
    "\n",
    "petsDataframe.groupby([\"Intake Condition\"]).mean(numeric_only=True)[\"Age upon Outcome Days\"]\n",
    "\n",
    "############## END OF CODE ##############"
   ]
  },
  {
   "cell_type": "markdown",
   "metadata": {},
   "source": [
    "---\n",
    "## Jupyter notebook run flow\n",
    "\n",
    "An important note about Jupyter notebooks is that you can run the cells in any order. Typically, you want to run code cells from top to bottom because cells toward the end of the notebook will likely require variables that were defined earlier in the notebook.\n",
    "\n",
    "Recall that Jupyter includes a number in square brackets to the left of a code cell to indicate the order in which the cells were run. Use the numbers to check that you run cells in the correct order.\n",
    "\n",
    "When you create your own notebooks, make sure that cells are in order from top to bottom so that anyone who runs your notebook can run the cells in order from the top of the notebook to the bottom without getting any errors.\n",
    "\n",
    "It's helpful to include Markdown cells at the beginning of a notebook to provide details about what the notebook does. In this section, you can also let people know if any code segments will take a long time to run (such as code to train a model)."
   ]
  },
  {
   "cell_type": "markdown",
   "metadata": {},
   "source": [
    "<div style=\"border: 4px solid coral; text-align: center; margin: auto;\"> \n",
    "    <h3><i>Try it yourself!</i></h3>\n",
    "    <p style=\"text-align:center;margin:auto;\"><img src=\"images/activity.png\" alt=\"Activity\" width=\"100\" /> </p>\n",
    "    <p style=\" text-align: center; margin: auto;\">Choose <b>Kernel</b> > <b>Restart</b>. Then, run the following cell.</p>\n",
    "    <br>\n",
    "</div>"
   ]
  },
  {
   "cell_type": "code",
   "execution_count": null,
   "metadata": {},
   "outputs": [],
   "source": [
    "# Restart the kernel, and then run this cell\n",
    "petsDataframe.head(3)"
   ]
  },
  {
   "cell_type": "markdown",
   "metadata": {},
   "source": [
    "What happened?\n",
    "\n",
    "Because you restarted the kernel, the cell had an error. This is because restarting the kernel cleared all the defined variables out of memory, including `petsDataframe`."
   ]
  },
  {
   "cell_type": "markdown",
   "metadata": {},
   "source": [
    "Find the cell that has the commands to fix the error, run it, and rerun the `head` command to see if it works now.\n",
    "\n",
    "### Best practice\n",
    "\n",
    "Although running cells out of order should work, don't rely on your memory for that. Always run all cells to make sure you don't miss anything!"
   ]
  },
  {
   "cell_type": "markdown",
   "metadata": {},
   "source": [
    "---\n",
    "## Conclusion\n",
    "\n",
    "This notebook provided an introduction to what Jupyter notebooks are, how to interact with them, and how to use them for the labs in this course. You should now be able to operate effectively in any lab of this course.\n",
    "\n",
    "## Next lab\n",
    "\n",
    "In the next lab, you will learn about a few additional features of Jupyter notebooks."
   ]
  }
 ],
 "metadata": {
  "instance_type": "ml.t3.medium",
  "kernelspec": {
   "display_name": "Python 3 (ipykernel)",
   "language": "python",
   "name": "python3"
  },
  "language_info": {
   "codemirror_mode": {
    "name": "ipython",
    "version": 3
   },
   "file_extension": ".py",
   "mimetype": "text/x-python",
   "name": "python",
   "nbconvert_exporter": "python",
   "pygments_lexer": "ipython3",
   "version": "3.9.7"
  },
  "toc": {
   "base_numbering": 1,
   "nav_menu": {},
   "number_sections": true,
   "sideBar": true,
   "skip_h1_title": false,
   "title_cell": "Table of Contents",
   "title_sidebar": "Contents",
   "toc_cell": false,
   "toc_position": {
    "height": "calc(100% - 180px)",
    "left": "10px",
    "top": "150px",
    "width": "290.388px"
   },
   "toc_section_display": true,
   "toc_window_display": true
  },
  "toc-autonumbering": true,
  "toc-showcode": false,
  "toc-showmarkdowntxt": false,
  "toc-showtags": false,
  "vscode": {
   "interpreter": {
    "hash": "aee8b7b246df8f9039afb4144a1f6fd8d2ca17a180786b69acc140d282b71a49"
   }
  }
 },
 "nbformat": 4,
 "nbformat_minor": 4
}
