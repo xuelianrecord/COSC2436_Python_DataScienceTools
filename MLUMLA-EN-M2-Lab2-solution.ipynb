{
 "cells": [
  {
   "cell_type": "markdown",
   "id": "d1bf92eb",
   "metadata": {},
   "source": [
    "<center><img src=\"images/logo.png\" alt=\"drawing\" width=\"400\" style=\"background-color:white; padding:1em;\" /></center> <br/>\n",
    "\n",
    "# ML through Application\n",
    "## Module 2, Lab 2: Performing EDA for Numerical Variables\n",
    "\n",
    "Exploratory data analysis (EDA) is an important process in ML. To learn about EDA, you will perform initial data investigations to discover patterns, spot anomalies, and look for insights to inform later ML modeling choices.\n",
    "\n",
    "You will learn how to do the following:\n",
    "\n",
    "- Understand standard statistics that are used in ML for numerical data.\n",
    "- Create basic plots of numerical features.\n",
    "\n",
    "----\n",
    "\n",
    "__Austin Animal Center Dataset__\n",
    "\n",
    "In this lab, you will work with historical pet adoption data in the [Austin Animal Center Shelter Intakes and Outcomes dataset](https://www.kaggle.com/datasets/aaronschlegel/austin-animal-center-shelter-intakes-and-outcomes?resource=download). The target field of the dataset (**Outcome Type**) is the outcome of adoption: 1 for adopted and 0 for not adopted. Multiple features are used in the dataset.\n",
    "\n",
    "Dataset schema:\n",
    "- __Pet ID:__ Unique ID of the pet\n",
    "- __Outcome Type:__ State of pet at the time of recording the outcome (0 = not placed, 1 = placed). This is the field to predict.\n",
    "- __Sex upon Outcome:__ Sex of pet at outcome\n",
    "- __Name:__ Name of pet \n",
    "- __Found Location:__ Found location of pet before it entered the shelter\n",
    "- __Intake Type:__ Circumstances that brought the pet to the shelter\n",
    "- __Intake Condition:__ Health condition of the pet when it entered the shelter\n",
    "- __Pet Type:__ Type of pet\n",
    "- __Sex upon Intake:__ Sex of pet when it entered the shelter\n",
    "- __Breed:__ Breed of pet \n",
    "- __Color:__ Color of pet \n",
    "- __Age upon Intake Days:__ Age (days) of pet when it entered the shelter\n",
    "- __Age upon Outcome Days:__ Age (days) of pet at outcome\n",
    "\n",
    "---\n",
    "\n",
    "You will be presented with two kinds of exercises throughout the notebook: activities and challenges. <br/>\n",
    "\n",
    "| <img style=\"float: center;\" src=\"images/activity.png\" alt=\"Activity\" width=\"125\"/>| <img style=\"float: center;\" src=\"images/challenge.png\" alt=\"Challenge\" width=\"125\"/>|\n",
    "| --- | --- |\n",
    "|<p style=\"text-align:center;\">No coding is needed for an activity. You try to understand a concept, <br/>answer questions, or run a code cell.</p> |<p style=\"text-align:center;\">Challenges are where you can practice your coding skills.</p>"
   ]
  },
  {
   "cell_type": "markdown",
   "id": "c6d26db2",
   "metadata": {},
   "source": [
    "## Index\n",
    "\n",
    "- [Overall statistics](#Overall-statistics)\n",
    "- [Basic plots](#Basic-plots)"
   ]
  },
  {
   "cell_type": "markdown",
   "id": "2aa382af",
   "metadata": {},
   "source": [
    "---\n",
    "## Overall statistics\n",
    "\n",
    "In this section, you will look at simple statistics of the dataset, with a focus on the numerical variables.\n",
    "\n",
    "First, read the dataset into a DataFrame and look at the data."
   ]
  },
  {
   "cell_type": "code",
   "execution_count": null,
   "id": "2a0b229d",
   "metadata": {
    "tags": []
   },
   "outputs": [],
   "source": [
    "%%capture\n",
    "# Install libraries\n",
    "!pip install -U -q -r requirements.txt"
   ]
  },
  {
   "cell_type": "code",
   "execution_count": null,
   "id": "4288006b",
   "metadata": {
    "tags": []
   },
   "outputs": [],
   "source": [
    "import pandas as pd\n",
    "import matplotlib.pyplot as plt\n",
    "import numpy as np\n",
    "\n",
    "%matplotlib inline\n",
    "from sklearn.impute import SimpleImputer"
   ]
  },
  {
   "cell_type": "code",
   "execution_count": null,
   "id": "fb81b418",
   "metadata": {},
   "outputs": [],
   "source": [
    "# Import the dataset\n",
    "df = pd.read_csv(\"data/review_dataset.csv\")\n",
    "\n",
    "# Print the dataset shape (rows/columns)\n",
    "print(\"The shape of the dataset is:\", df.shape)"
   ]
  },
  {
   "cell_type": "markdown",
   "id": "2c57ad0c",
   "metadata": {},
   "source": [
    "The output tells you that the dataset has 95485 rows and 13 columns. \n",
    "\n",
    "You can use the `info()` function to get more simple statistics about the dataset."
   ]
  },
  {
   "cell_type": "code",
   "execution_count": null,
   "id": "fa387bac",
   "metadata": {
    "tags": []
   },
   "outputs": [],
   "source": [
    "# See the data types and non-null values for each column\n",
    "df.info()"
   ]
  },
  {
   "cell_type": "markdown",
   "id": "d55cc7b9",
   "metadata": {},
   "source": [
    "Numerical features have statistics such as count, mean, standard deviation, minimum, and maximum.\n",
    "\n",
    "You can use the `describe()` function to display these statistics for the numerical features in the dataset."
   ]
  },
  {
   "cell_type": "markdown",
   "id": "e535e605",
   "metadata": {},
   "source": [
    "<div style=\"border: 4px solid coral; text-align: center; margin: auto;\">\n",
    "    <h3><i>Try it yourself!</i></h3>\n",
    "    <br>\n",
    "    <p style=\"text-align:center;margin:auto;\"><img src=\"images/challenge.png\" alt=\"Challenge\" width=\"100\" /> </p>\n",
    "    <p style=\" text-align: center; margin: auto;\">In the following code cell, use the <code>df.describe()</code> function to get a summary of statistics for the numerical columns.</p>\n",
    "    <br>\n",
    "</div>"
   ]
  },
  {
   "cell_type": "code",
   "execution_count": null,
   "id": "d79dce78",
   "metadata": {
    "tags": []
   },
   "outputs": [],
   "source": [
    "############### CODE HERE ###############\n",
    "\n",
    "df.describe()\n",
    "\n",
    "############## END OF CODE ##############"
   ]
  },
  {
   "cell_type": "markdown",
   "id": "d3ba883a",
   "metadata": {},
   "source": [
    "Next, print the names of the columns (features) so that you can choose which features are numerical."
   ]
  },
  {
   "cell_type": "code",
   "execution_count": null,
   "id": "7055e7fe",
   "metadata": {
    "tags": []
   },
   "outputs": [],
   "source": [
    "print(df.columns)"
   ]
  },
  {
   "cell_type": "markdown",
   "id": "447b6a3a",
   "metadata": {},
   "source": [
    "The numerical features are:\n",
    "- Age upon Intake Days\n",
    "- Age upon Outcome Days\n",
    "\n",
    "You will use only these two features for the remainder of this lab."
   ]
  },
  {
   "cell_type": "code",
   "execution_count": null,
   "id": "6295f176",
   "metadata": {
    "tags": []
   },
   "outputs": [],
   "source": [
    "# Make a list of the features that you want to use and\n",
    "# set a variable that contains the name of the target feature\n",
    "numerical_features = [\"Age upon Intake Days\", \"Age upon Outcome Days\"]\n",
    "\n",
    "model_target = \"Outcome Type\""
   ]
  },
  {
   "cell_type": "markdown",
   "id": "a1b285a7",
   "metadata": {},
   "source": [
    "---\n",
    "## Basic plots\n",
    "\n",
    "Now, you will examine the data by using plots."
   ]
  },
  {
   "cell_type": "markdown",
   "id": "7bc7d3bd",
   "metadata": {},
   "source": [
    "### Histogram plots\n",
    "\n",
    "Histograms show the distribution of numeric data. Data is divided into buckets or bins.\n",
    "\n",
    "You can use the `plot.hist()` function to make a histogram plot for a specific feature.\n",
    "\n",
    "__Note:__ These plots ignore null (missing) values. You will learn how to deal with missing values in the next section."
   ]
  },
  {
   "cell_type": "code",
   "execution_count": null,
   "id": "a000e836",
   "metadata": {
    "tags": []
   },
   "outputs": [],
   "source": [
    "# Create a histogram plot of the Age upon Intake Days feature\n",
    "df[\"Age upon Intake Days\"].plot.hist();"
   ]
  },
  {
   "cell_type": "markdown",
   "id": "d377db08",
   "metadata": {},
   "source": [
    "Notice that the number of bins that data is grouped into was picked for you. You can use the `bins=##` parameter to specify how many bins you want displayed."
   ]
  },
  {
   "cell_type": "markdown",
   "id": "efa81874",
   "metadata": {},
   "source": [
    "<div style=\"border: 4px solid coral; text-align: center; margin: auto;\">\n",
    "    <h3><i>Try it yourself!</i></h3>\n",
    "    <br>\n",
    "    <p style=\"text-align:center;margin:auto;\"><img src=\"images/challenge.png\" alt=\"Challenge\" width=\"100\" /> </p>\n",
    "    <p style=\" text-align: center; margin: auto;\">Complete the code in the following code cell to create a histogram plot with five bins for each numerical feature.</p><br>\n",
    "    <p style=\" text-align: center; margin: auto;\">After plotting the data, you can change the <code>bins=</code> parameter to see how this changes the output.</p>\n",
    "    <br>\n",
    "</div>"
   ]
  },
  {
   "cell_type": "code",
   "execution_count": null,
   "id": "933fe05d",
   "metadata": {
    "tags": []
   },
   "outputs": [],
   "source": [
    "# Loop through each numerical feature\n",
    "for c in numerical_features:\n",
    "############### CODE HERE ###############\n",
    "    df[c].plot.hist(bins=5)\n",
    "############## END OF CODE ##############\n",
    "    # Set the title of the plot to the name of the feature that you plotted\n",
    "    plt.title(c)\n",
    "    plt.show()"
   ]
  },
  {
   "cell_type": "markdown",
   "id": "05b0ab2b",
   "metadata": {},
   "source": [
    "If you notice that values are heavily placed in the first bin, it's a good idea to check for outliers. You can look at the min and max values of the particular feature or explore value ranges."
   ]
  },
  {
   "cell_type": "code",
   "execution_count": null,
   "id": "345cffa5",
   "metadata": {
    "tags": []
   },
   "outputs": [],
   "source": [
    "# Print the max and min values for each feature\n",
    "for c in numerical_features:\n",
    "    print(c)\n",
    "    print(\"min:\", df[c].min(), \"max:\", df[c].max())"
   ]
  },
  {
   "cell_type": "markdown",
   "id": "156601c7",
   "metadata": {},
   "source": [
    "As with categorical features, you can use the `value_counts()` function to count the number of rows that fall within nonoverlapping ranges. With numerical features, you can specify the number of histogram bins to get a more refined view of the data. "
   ]
  },
  {
   "cell_type": "code",
   "execution_count": null,
   "id": "56f4a803",
   "metadata": {
    "tags": []
   },
   "outputs": [],
   "source": [
    "# Use the value_counts function to put the data into 10 bins\n",
    "for c in numerical_features:\n",
    "    print(df[c].value_counts(bins=10, sort=False))"
   ]
  },
  {
   "cell_type": "markdown",
   "id": "1ffefc9c",
   "metadata": {},
   "source": [
    "In this output, each row has the following format:\n",
    "\n",
    "(###, ###]  ####\n",
    "\n",
    "The first set of numbers is the interval range for the bin, and the last number is the count of rows that fall within that range.\n",
    "\n",
    "__Note:__ The interval range is between a parenthesis and a square bracket. This is interval notation, where the parenthesis indicates that the lower bound cannot include the number and the square bracket indicates that the upper bound includes the number."
   ]
  },
  {
   "cell_type": "markdown",
   "id": "011b6bf7",
   "metadata": {},
   "source": [
    "---\n",
    "### Outliers\n",
    "During EDA, it's important to deal with outliers. If you identify outliers that are likely incorrect values, dropping them could improve the numerical value histograms and later overall model performance.\n",
    "\n",
    "One method to handle outliers is to calculate the interquartile range (IQR) and drop anything that is 1.5 times smaller or larger than it. To do this, calculate the 25 percent and 75 percent quartiles. Use them to calculate the IQR, and then use the quartile values and the IQR to drop rows from the feature that are outside the range.\n",
    "\n",
    "<div style=\"border: 4px solid coral; text-align: center; margin: auto;\"><br>\n",
    "    <p style=\"text-align:center;margin:auto;\">Lower quartile: <code>Q1 = df['feature'].quartile(0.25)</code></p>\n",
    "    <p style=\"text-align:center;margin:auto;\">Upper quartile: <code>Q3 = $ df['feature'].quartile(0.75)</code></p>\n",
    "    <p style=\"text-align:center;margin:auto;\">Interquartile range: <code>IQR = Q3 - Q1 </code></p>\n",
    "    <p style=\"text-align:center;margin:auto;\">Anything not in the range of <code>(Q1 - 1.5 IQR)</code> and <code>(Q3 + 1.5 IQR)</code> is an outlier.</p>\n",
    "    <br>\n",
    "</div>"
   ]
  },
  {
   "cell_type": "code",
   "execution_count": null,
   "id": "cc46f096",
   "metadata": {
    "tags": []
   },
   "outputs": [],
   "source": [
    "# Uncomment and run this cell to calculate the quartile ranges and remove any values outside the calculated range\n",
    "for c in numerical_features:\n",
    "    print(\"Dropped from feature\", c)\n",
    "    # Calculate the upper and lower quartile values\n",
    "    Q1 = df[c].quantile(0.25)\n",
    "    Q3 = df[c].quantile(0.75)\n",
    "    \n",
    "    # Calculate the IQR\n",
    "    IQR = Q3 - Q1\n",
    "    print (Q1 - 1.5*IQR, Q3 + 1.5*IQR)\n",
    "\n",
    "    # Drop values below Q1 - 1.5 IQR and beyond Q3 + 1.5 IQR\n",
    "    dropIndexes = df[df[c] > Q3 + 1.5*IQR].index\n",
    "    df.drop(dropIndexes , inplace=True)\n",
    "    dropIndexes = df[df[c] < Q1 - 1.5*IQR].index\n",
    "    df.drop(dropIndexes , inplace=True)\n",
    "    "
   ]
  },
  {
   "cell_type": "markdown",
   "id": "e591dcdd",
   "metadata": {},
   "source": [
    "You should also consider other rules for removing outliers. For example, you could remove any values in the upper 10 percent. "
   ]
  },
  {
   "cell_type": "code",
   "execution_count": null,
   "id": "3029d951",
   "metadata": {
    "tags": []
   },
   "outputs": [],
   "source": [
    "# Drop values in the upper 10%\n",
    "for c in numerical_features:\n",
    "    # Drop values beyond 90% of max()\n",
    "    dropIndexes = df[df[c] > df[c].max() * 9 / 10].index\n",
    "    df.drop(dropIndexes, inplace=True)"
   ]
  },
  {
   "cell_type": "markdown",
   "id": "81eb8973",
   "metadata": {},
   "source": [
    "After you drop the outliers, you can recalculate the `value_counts()` and see how the data has changed."
   ]
  },
  {
   "cell_type": "code",
   "execution_count": null,
   "id": "9d1cd0c0",
   "metadata": {
    "tags": []
   },
   "outputs": [],
   "source": [
    "for c in numerical_features:\n",
    "    print(df[c].value_counts(bins=10, sort=False))\n",
    "    plt.show()"
   ]
  },
  {
   "cell_type": "markdown",
   "id": "0aedbe71",
   "metadata": {},
   "source": [
    "You can plot the histograms again to see how they have changed. \n",
    "\n",
    "__Note:__ You can change the number of bins for the histograms so you can get a better understanding of the data."
   ]
  },
  {
   "cell_type": "code",
   "execution_count": null,
   "id": "28cc3108",
   "metadata": {
    "tags": []
   },
   "outputs": [],
   "source": [
    "# Plot updated histograms with 100 bins for each numerical feature\n",
    "for c in numerical_features:\n",
    "    df[c].plot.hist(bins=100)\n",
    "    plt.title(c)\n",
    "    plt.show()"
   ]
  },
  {
   "cell_type": "markdown",
   "id": "c988b417",
   "metadata": {},
   "source": [
    "### Scatterplots\n",
    "\n",
    "Scatterplots are 2D plots of two numerical variables. These plots can be used to examine the relationship between two variables. "
   ]
  },
  {
   "cell_type": "markdown",
   "id": "94a99ef0",
   "metadata": {},
   "source": [
    "To see a basic scatterplot, you will generate some random data and plot it using `plt.scatter()`. This function requires $x$ and $y$ values to plot."
   ]
  },
  {
   "cell_type": "code",
   "execution_count": null,
   "id": "1dd45f69",
   "metadata": {
    "tags": []
   },
   "outputs": [],
   "source": [
    "# Generate random data and make a scatterplot of it\n",
    "\n",
    "# Generate random data\n",
    "x = np.random.rand(100)\n",
    "y = np.random.rand(100)\n",
    "\n",
    "# Plot the data\n",
    "plt.scatter(x, y)\n",
    "plt.show()"
   ]
  },
  {
   "cell_type": "markdown",
   "id": "22dbdf10",
   "metadata": {},
   "source": [
    "The `plt.scatter()` function needs two numerical features to successfully plot. You can use this with your dataset to see how features are correlated to each other."
   ]
  },
  {
   "cell_type": "markdown",
   "id": "85e641c9",
   "metadata": {},
   "source": [
    "<div style=\"border: 4px solid coral; text-align: center; margin: auto;\">\n",
    "    <h3><i>Try it yourself!</i></h3>\n",
    "    <br>\n",
    "    <p style=\"text-align:center;margin:auto;\"><img src=\"images/challenge.png\" alt=\"Challenge\" width=\"100\" /> </p>\n",
    "    <p style=\" text-align: center; margin: auto;\">In the following code cell, complete the code to use <code>plt.scatter()</code> to create a scatterplot.</p><br>\n",
    "    <p style=\" text-align: center; margin: auto;\"><b>Note:</b> Use <code>df[numerical_features[0]]</code> for the x-axis values and <code>df[numerical_features[1]]</code> for the y-axis values.</p>\n",
    "    <br>\n",
    "</div>"
   ]
  },
  {
   "cell_type": "code",
   "execution_count": null,
   "id": "2f6613b0",
   "metadata": {
    "tags": []
   },
   "outputs": [],
   "source": [
    "############### CODE HERE ###############\n",
    "\n",
    "plt.scatter(df[numerical_features[0]], df[numerical_features[1]])\n",
    "\n",
    "############## END OF CODE ##############\n",
    "plt.title(numerical_features[0] + \" vs \" + numerical_features[1])\n",
    "plt.xlabel(numerical_features[0])\n",
    "plt.ylabel(numerical_features[1])\n",
    "plt.show()"
   ]
  },
  {
   "cell_type": "markdown",
   "id": "c1ba706a",
   "metadata": {},
   "source": [
    "By looking at this graph, you can start to analyze the data to ensure that it makes sense. The diagonal corresponds to the same age (in days) for the intake and outcome."
   ]
  },
  {
   "cell_type": "markdown",
   "id": "d571ca4b",
   "metadata": {},
   "source": [
    "<div style=\"border: 4px solid coral; text-align: center; margin: auto;\">\n",
    "    <h3><i>It's time to check your knowledge!</i></h3>\n",
    "    <br>\n",
    "    <p style=\" text-align: center; margin: auto;\">To load the question, run the following cell.</p>\n",
    "    <br>\n",
    "</div>"
   ]
  },
  {
   "cell_type": "code",
   "execution_count": null,
   "id": "a08f90af",
   "metadata": {
    "tags": []
   },
   "outputs": [],
   "source": [
    "# Run this cell for a knowledge check question\n",
    "from MLUMLA_EN_M2_Lab2_quiz_questions import *\n",
    "\n",
    "question_1"
   ]
  },
  {
   "cell_type": "markdown",
   "id": "975a52e1",
   "metadata": {},
   "source": [
    "----\n",
    "## Conclusion\n",
    "\n",
    "This notebook helped you to understand and manipulate the numerical features in a dataset so that you can create the best ML model. Understanding and preparing data is one of the most important steps to build a successful ML model.\n",
    "\n",
    "## Next lab\n",
    "\n",
    "In the next lab, you will learn about transforming raw data into features that an ML algorithm understands better."
   ]
  }
 ],
 "metadata": {
  "kernelspec": {
   "display_name": "conda_pytorch_p310",
   "language": "python",
   "name": "conda_pytorch_p310"
  },
  "language_info": {
   "codemirror_mode": {
    "name": "ipython",
    "version": 3
   },
   "file_extension": ".py",
   "mimetype": "text/x-python",
   "name": "python",
   "nbconvert_exporter": "python",
   "pygments_lexer": "ipython3",
   "version": "3.10.10"
  },
  "toc": {
   "base_numbering": 1,
   "nav_menu": {},
   "number_sections": true,
   "sideBar": true,
   "skip_h1_title": false,
   "title_cell": "Table of Contents",
   "title_sidebar": "Contents",
   "toc_cell": false,
   "toc_position": {},
   "toc_section_display": true,
   "toc_window_display": false
  }
 },
 "nbformat": 4,
 "nbformat_minor": 5
}
