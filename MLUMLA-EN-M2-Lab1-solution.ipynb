{
 "cells": [
  {
   "cell_type": "markdown",
   "id": "53a1ff86",
   "metadata": {},
   "source": [
    "<center><img src=\"images/logo.png\" alt=\"drawing\" width=\"400\" style=\"background-color:white; padding:1em;\" /></center> <br/>\n",
    "\n",
    "# ML through Application\n",
    "## Module 2, Lab 1: Performing EDA for Categorical Variables\n",
    "\n",
    "Exploratory data analysis (EDA) is an important process in ML. To learn about EDA, you will perform initial data investigations to discover patterns, spot anomalies, and look for insights to inform later ML modeling choices.\n",
    "\n",
    "You will learn how to do the following:\n",
    "\n",
    "- Understand and identify standard statistics that are used in ML.\n",
    "- Create basic plots.\n",
    "- Handle missing values.\n",
    "\n",
    "----\n",
    "\n",
    "__Austin Animal Center Dataset__\n",
    "\n",
    "In this lab, you will work with historical pet adoption data in the [Austin Animal Center Shelter Intakes and Outcomes dataset](https://www.kaggle.com/datasets/aaronschlegel/austin-animal-center-shelter-intakes-and-outcomes?resource=download). The target field of the dataset (**Outcome Type**) is the outcome of adoption: 1 for adopted and 0 for not adopted. Multiple features are used in the dataset.\n",
    "\n",
    "Dataset schema:\n",
    "- __Pet ID:__ Unique ID of the pet\n",
    "- __Outcome Type:__ State of pet at the time of recording the outcome (0 = not placed, 1 = placed). This is the field to predict.\n",
    "- __Sex upon Outcome:__ Sex of pet at outcome\n",
    "- __Name:__ Name of pet \n",
    "- __Found Location:__ Found location of pet before it entered the shelter\n",
    "- __Intake Type:__ Circumstances that brought the pet to the shelter\n",
    "- __Intake Condition:__ Health condition of the pet when it entered the shelter\n",
    "- __Pet Type:__ Type of pet\n",
    "- __Sex upon Intake:__ Sex of pet when it entered the shelter\n",
    "- __Breed:__ Breed of pet \n",
    "- __Color:__ Color of pet \n",
    "- __Age upon Intake Days:__ Age (days) of pet when it entered the shelter\n",
    "- __Age upon Outcome Days:__ Age (days) of pet at outcome\n",
    "\n",
    "---\n",
    "\n",
    "You will be presented with two kinds of exercises throughout the notebook: activities and challenges. <br/>\n",
    "\n",
    "| <img style=\"float: center;\" src=\"images/activity.png\" alt=\"Activity\" width=\"125\"/>| <img style=\"float: center;\" src=\"images/challenge.png\" alt=\"Challenge\" width=\"125\"/>|\n",
    "| --- | --- |\n",
    "|<p style=\"text-align:center;\">No coding is needed for an activity. You try to understand a concept, <br/>answer questions, or run a code cell.</p> |<p style=\"text-align:center;\">Challenges are where you can practice your coding skills.</p>"
   ]
  },
  {
   "cell_type": "markdown",
   "id": "33d0c328",
   "metadata": {},
   "source": [
    "## Index\n",
    "\n",
    "- [Overall statistics](#Overall-statistics)\n",
    "- [Basic plots](#Basic-plots)\n",
    "- [Missing values](#Missing-values)"
   ]
  },
  {
   "cell_type": "markdown",
   "id": "a74e6288",
   "metadata": {},
   "source": [
    "---\n",
    "### Overall statistics\n",
    "\n",
    "In this section, you will look at simple statistics of the dataset, with a focus on the categorical variables.\n",
    "\n",
    "First, read the dataset into a DataFrame and look at the data."
   ]
  },
  {
   "cell_type": "code",
   "execution_count": null,
   "id": "1d9080bd",
   "metadata": {
    "tags": []
   },
   "outputs": [],
   "source": [
    "%%capture\n",
    "# Install libraries\n",
    "!pip install -U -q -r requirements.txt"
   ]
  },
  {
   "cell_type": "code",
   "execution_count": null,
   "id": "bf8b5b5a",
   "metadata": {
    "tags": []
   },
   "outputs": [],
   "source": [
    "import pandas as pd\n",
    "import matplotlib.pyplot as plt\n",
    "\n",
    "%matplotlib inline\n",
    "from sklearn.impute import SimpleImputer"
   ]
  },
  {
   "cell_type": "code",
   "execution_count": null,
   "id": "43aadaab",
   "metadata": {
    "tags": []
   },
   "outputs": [],
   "source": [
    "# Import the dataset\n",
    "df = pd.read_csv(\"data/review_dataset.csv\")\n",
    "\n",
    "# Print the dataset shape (rows/columns)\n",
    "print(\"The shape of the dataset is:\", df.shape)"
   ]
  },
  {
   "cell_type": "markdown",
   "id": "407af08c",
   "metadata": {},
   "source": [
    "<div style=\"border: 4px solid coral; text-align: center; margin: auto;\">\n",
    "    <h3><i>Try it yourself!</i></h3>\n",
    "    <br>\n",
    "    <p style=\"text-align:center;margin:auto;\"><img src=\"images/challenge.png\" alt=\"Challenge\" width=\"100\" /> </p>\n",
    "    <p style=\" text-align: center; margin: auto;\">In the following code cell, use the <code>df.head()</code> function to see the first 5 rows of the dataset.</p>\n",
    "    <br>\n",
    "</div>"
   ]
  },
  {
   "cell_type": "code",
   "execution_count": null,
   "id": "016a254a",
   "metadata": {
    "tags": []
   },
   "outputs": [],
   "source": [
    "############### CODE HERE ###############\n",
    "\n",
    "# Print the first five rows\n",
    "# NaN means missing data\n",
    "df.head()\n",
    "\n",
    "############## END OF CODE ##############"
   ]
  },
  {
   "cell_type": "markdown",
   "id": "77b23e73",
   "metadata": {},
   "source": [
    "<div style=\"border: 4px solid coral; text-align: center; margin: auto;\">\n",
    "    <h3><i>It's time to check your knowledge!</i></h3>\n",
    "    <br>\n",
    "    <p style=\" text-align: center; margin: auto;\">To load the question, run the following cell.</p>\n",
    "    <br>\n",
    "</div>"
   ]
  },
  {
   "cell_type": "code",
   "execution_count": null,
   "id": "86af4cf1",
   "metadata": {
    "tags": []
   },
   "outputs": [],
   "source": [
    "# Run this cell for a knowledge check question\n",
    "from MLUMLA_EN_M2_Lab1_quiz_questions import *\n",
    "\n",
    "question_1"
   ]
  },
  {
   "cell_type": "markdown",
   "id": "ac6abed8",
   "metadata": {},
   "source": [
    "The `head` function shows you the actual data, while the `df.info()` function gives basic statistics about the dataset. Some information includes the number of rows and the number of columns of the dataset."
   ]
  },
  {
   "cell_type": "code",
   "execution_count": null,
   "id": "8ac677a4",
   "metadata": {
    "tags": []
   },
   "outputs": [],
   "source": [
    "# See the data types and non-null values for each column\n",
    "df.info()"
   ]
  },
  {
   "cell_type": "markdown",
   "id": "f6c913aa",
   "metadata": {},
   "source": [
    "As you can see in the output, the dataset has 95485 rows and 13 columns.\n",
    "\n",
    "Next, print the names of the columns (features) so that you can choose which features are categorical. This will also give you a reference of how the feature names are spelled so that you can call them correctly."
   ]
  },
  {
   "cell_type": "code",
   "execution_count": null,
   "id": "5b23995c",
   "metadata": {
    "tags": []
   },
   "outputs": [],
   "source": [
    "# List the features in the dataset\n",
    "print(df.columns)"
   ]
  },
  {
   "cell_type": "markdown",
   "id": "cbe2f9dc",
   "metadata": {},
   "source": [
    "The categorical features are:\n",
    "- Sex upon Outcome\n",
    "- Found Location\n",
    "- Intake Type\n",
    "- Intake Condition\n",
    "- Pet Type\n",
    "- Sex upon Intake\n",
    "- Breed\n",
    "- Color\n",
    "\n",
    "You will use only these eight features for the remainder of this lab."
   ]
  },
  {
   "cell_type": "code",
   "execution_count": null,
   "id": "fb98e7ab",
   "metadata": {
    "tags": []
   },
   "outputs": [],
   "source": [
    "# Make a list of the features that you want to use and\n",
    "# set a variable that contains the name of the target feature\n",
    "categorical_features = [\n",
    "    \"Sex upon Outcome\",\n",
    "    \"Found Location\",\n",
    "    \"Intake Type\",\n",
    "    \"Intake Condition\",\n",
    "    \"Pet Type\",\n",
    "    \"Sex upon Intake\",\n",
    "    \"Breed\",\n",
    "    \"Color\",\n",
    "]\n",
    "\n",
    "model_target = \"Outcome Type\""
   ]
  },
  {
   "cell_type": "markdown",
   "id": "96b6c4d4",
   "metadata": {},
   "source": [
    "---\n",
    "### Basic plots\n",
    "\n",
    "Now, you will examine the data with a bar plot to show counts of the categorical data fields. \n",
    "\n",
    "The `value_counts()` function shows the count of each unique value. This is useful for categorical variables.\n",
    "\n",
    "__Note:__ These plots ignore null (missing) values. You will learn how to deal with missing values in the next section.\n",
    "\n",
    "To get started, look at the distribution of the model target. "
   ]
  },
  {
   "cell_type": "code",
   "execution_count": null,
   "id": "99f992fb",
   "metadata": {
    "tags": []
   },
   "outputs": [],
   "source": [
    "df[model_target].value_counts()"
   ]
  },
  {
   "cell_type": "markdown",
   "id": "d18e803e",
   "metadata": {},
   "source": [
    "From this output, you can tell that the majority of the Outcome Type is 1 (the animal was adopted). However, numbers are not easy to quickly understand, so create a plot of this data."
   ]
  },
  {
   "cell_type": "markdown",
   "id": "3a80f965",
   "metadata": {},
   "source": [
    "<div style=\"border: 4px solid coral; text-align: center; margin: auto;\">\n",
    "    <h3><i>Try it yourself!</i></h3>\n",
    "    <br>\n",
    "    <p style=\"text-align:center;margin:auto;\"><img src=\"images/activity.png\" alt=\"Activity\" width=\"100\" /> </p>\n",
    "    <p style=\" text-align: center; margin: auto;\">To use <code>plot.bar()</code> with the <code>value_counts()</code> function to make a bar plot of the values, run the following cell.</p>\n",
    "    <br>\n",
    "</div>"
   ]
  },
  {
   "cell_type": "code",
   "execution_count": null,
   "id": "ecc86268",
   "metadata": {
    "tags": []
   },
   "outputs": [],
   "source": [
    "# Create a bar plot for the model_target feature\n",
    "df[model_target].value_counts().plot.bar()\n",
    "plt.show()"
   ]
  },
  {
   "cell_type": "markdown",
   "id": "39fffa69",
   "metadata": {},
   "source": [
    "<div style=\"border: 4px solid coral; text-align: center; margin: auto;\">\n",
    "    <h3><i>It's time to check your knowledge!</i></h3>\n",
    "    <br>\n",
    "    <p style=\" text-align: center; margin: auto;\">To load the question, run the following cell.</p>\n",
    "    <br>\n",
    "</div>"
   ]
  },
  {
   "cell_type": "code",
   "execution_count": null,
   "id": "7e97909e",
   "metadata": {
    "tags": []
   },
   "outputs": [],
   "source": [
    "# Run this cell for a knowledge check question\n",
    "question_2"
   ]
  },
  {
   "cell_type": "markdown",
   "id": "98083413",
   "metadata": {},
   "source": [
    "Now that you have created a plot for a specific feature, you will explore the number of unique values for each of the categorical features."
   ]
  },
  {
   "cell_type": "code",
   "execution_count": null,
   "id": "6a759e52",
   "metadata": {
    "tags": []
   },
   "outputs": [],
   "source": [
    "# Loop through each feature and print the value count for each\n",
    "for c in categorical_features:\n",
    "    print(df[c].value_counts())"
   ]
  },
  {
   "cell_type": "markdown",
   "id": "4fdc172d",
   "metadata": {},
   "source": [
    "The output contains a lot of information. Again, statistics are great to see numerically, but they are easier to interpret as graphs. To interpret the information more easily, you will create bar plot visualizations for each feature. \n",
    "\n",
    "For simplicity and speed, the following code cell will only show bar plots for features with *fewer than* 50 unique values."
   ]
  },
  {
   "cell_type": "code",
   "execution_count": null,
   "id": "7e9a4b83",
   "metadata": {
    "tags": []
   },
   "outputs": [],
   "source": [
    "# Loop through each categorical feature\n",
    "for c in categorical_features:\n",
    "    # Check that the feature has fewer than 50 unique values\n",
    "    if len(df[c].value_counts()) < 50:\n",
    "        # Print the name of the feature\n",
    "        print(c)\n",
    "        # Create a bar plot of the feature\n",
    "        df[c].value_counts().plot.bar()\n",
    "        plt.show()"
   ]
  },
  {
   "cell_type": "markdown",
   "id": "5e18a2a6",
   "metadata": {},
   "source": [
    "---\n",
    "### Missing values\n",
    "\n",
    "It is important to correct missing values in a dataset. In this section, you will see multiple ways to fix missing values for categorical variables.\n",
    "\n",
    "First, check the number of missing (`nan`) values for each column.\n",
    "\n",
    "__Note:__ This dataset is not missing many values for categorical features, but it's important to learn how to handle missing values."
   ]
  },
  {
   "cell_type": "markdown",
   "id": "ef2cdb3b",
   "metadata": {},
   "source": [
    "<div style=\"border: 4px solid coral; text-align: center; margin: auto;\">\n",
    "    <h3><i>Try it yourself!</i></h3>\n",
    "    <br>\n",
    "    <p style=\"text-align:center;margin:auto;\"><img src=\"images/challenge.png\" alt=\"Challenge\" width=\"100\" /> </p>\n",
    "    <p style=\" text-align: center; margin: auto;\">In the following code cell, for each categorical feature, use the <code>isna().sum()</code> function to find the number of missing values for the feature.</p><br>\n",
    "    <p style=\" text-align: center; margin: auto;\"><b>Hint:</b> First, select the categorical columns with <code>df[categorical_features]</code>, and then use <code>isna().sum()</code>.</p>\n",
    "    <br>\n",
    "</div>"
   ]
  },
  {
   "cell_type": "code",
   "execution_count": null,
   "id": "65a3c3fc",
   "metadata": {
    "tags": []
   },
   "outputs": [],
   "source": [
    "############### CODE HERE ###############\n",
    "\n",
    "df[categorical_features].isna().sum()\n",
    "\n",
    "############## END OF CODE ##############"
   ]
  },
  {
   "cell_type": "markdown",
   "id": "27450aab",
   "metadata": {},
   "source": [
    "<div style=\"border: 4px solid coral; text-align: center; margin: auto;\">\n",
    "    <h3><i>It's time to check your knowledge!</i></h3>\n",
    "    <br>\n",
    "    <p style=\" text-align: center; margin: auto;\">To load the question, run the following cell.</p>\n",
    "    <br>\n",
    "</div>"
   ]
  },
  {
   "cell_type": "code",
   "execution_count": null,
   "id": "8ded4add",
   "metadata": {
    "tags": []
   },
   "outputs": [],
   "source": [
    "# Run this cell for a knowledge check question\n",
    "question_3"
   ]
  },
  {
   "cell_type": "markdown",
   "id": "55c8318c",
   "metadata": {},
   "source": [
    "Now that you have identified the features with missing values, you need to determine how to fix them.\n",
    "\n",
    "First, create a list with the feature names in it."
   ]
  },
  {
   "cell_type": "code",
   "execution_count": null,
   "id": "30defaeb",
   "metadata": {
    "tags": []
   },
   "outputs": [],
   "source": [
    "columns_to_impute = [\"Sex upon Outcome\", \"Sex upon Intake\"]"
   ]
  },
  {
   "cell_type": "markdown",
   "id": "32382a12",
   "metadata": {},
   "source": [
    "Next, you need to decide how to handle the missing values."
   ]
  },
  {
   "cell_type": "markdown",
   "id": "a92fa899",
   "metadata": {},
   "source": [
    "#### Drop rows with missing values\n",
    "\n",
    "One option is to drop the rows with missing values. For example, drop rows that have at least one missing value.\n",
    "\n",
    "__Note:__ Other drop options are available, and what you choose will depend on your specific problem."
   ]
  },
  {
   "cell_type": "code",
   "execution_count": null,
   "id": "6442797f",
   "metadata": {
    "tags": []
   },
   "outputs": [],
   "source": [
    "# Print the count of rows for each feature with missing values BEFORE you drop the rows\n",
    "df[categorical_features].isna().sum()"
   ]
  },
  {
   "cell_type": "code",
   "execution_count": null,
   "id": "52e3b0a5",
   "metadata": {
    "tags": []
   },
   "outputs": [],
   "source": [
    "# Drop the rows with missing values\n",
    "df_missing_dropped = df[categorical_features].dropna()"
   ]
  },
  {
   "cell_type": "code",
   "execution_count": null,
   "id": "8b159e42",
   "metadata": {
    "tags": []
   },
   "outputs": [],
   "source": [
    "# Print the count of rows for each feature with missing values AFTER you drop the rows\n",
    "df_missing_dropped.isna().sum()"
   ]
  },
  {
   "cell_type": "markdown",
   "id": "d693c5e4",
   "metadata": {},
   "source": [
    "After you dropped the rows with missing values, you can see that the data has been cleaned. When only a few rows are missing values, this can be a useful option. Can you think of times when this approach might not be the best method?"
   ]
  },
  {
   "cell_type": "markdown",
   "id": "75d0f0f9",
   "metadata": {
    "tags": []
   },
   "source": [
    "#### Impute (fill in) missing values with .fillna() \n",
    "\n",
    "Instead of dropping rows or features, another option is to fill in the missing values with new values. This is known as *imputation* of missing values."
   ]
  },
  {
   "cell_type": "code",
   "execution_count": null,
   "id": "a6176022",
   "metadata": {
    "tags": []
   },
   "outputs": [],
   "source": [
    "# Impute categorical features by using the statistical mode per feature to replace the missing values\n",
    "\n",
    "# Assign the df to a new df\n",
    "df_imputed_c = df.copy()\n",
    "print(\"Before imputer:\")\n",
    "print(df_imputed_c[columns_to_impute].isna().sum())\n",
    "for c in columns_to_impute:\n",
    "    # Find the mode for each feature\n",
    "    mode_impute = df_imputed_c[c].mode()[0]\n",
    "    # Impute the categorical features with the mode\n",
    "    # \"inplace=True\" parameter replaces missing values in place (no need for left handside assignment, like the example below)\n",
    "    # df_another_pandas_dataset = df_imputed_c[c].fillna()\n",
    "    df_imputed_c[c].fillna(mode_impute, inplace=True)\n",
    "print(\"\\nAfter imputer:\")\n",
    "print(df_imputed_c[columns_to_impute].isna().sum())"
   ]
  },
  {
   "cell_type": "markdown",
   "id": "5802d37d",
   "metadata": {},
   "source": [
    "#### Impute (fill in) missing values with sklearn's SimpleImputer\n",
    "\n",
    "A quick way to impute missing values is by using sklearn's SimpleImputer, a class that implements `.fit()` and `.transform()` methods. You can use this method in multiple ways.\n",
    "\n",
    "One option is the `\"most frequent\"` strategy, where you replace the missing values with the most common values for that feature."
   ]
  },
  {
   "cell_type": "code",
   "execution_count": null,
   "id": "51d029f9",
   "metadata": {
    "tags": []
   },
   "outputs": [],
   "source": [
    "# Assign the df to a new df\n",
    "df_sklearn_imputer = df.copy()\n",
    "print(\"Before imputer:\")\n",
    "print(df_sklearn_imputer[columns_to_impute].isna().sum())\n",
    "\n",
    "imputer = SimpleImputer(strategy=\"most_frequent\")\n",
    "df_sklearn_imputer[columns_to_impute] = imputer.fit_transform(\n",
    "    df_sklearn_imputer[columns_to_impute]\n",
    ")\n",
    "print(\"\\nAfter imputer:\")\n",
    "print(df_sklearn_imputer[columns_to_impute].isna().sum())"
   ]
  },
  {
   "cell_type": "markdown",
   "id": "6921896f",
   "metadata": {},
   "source": [
    "Another option is to use the `\"constant\"` strategy, where you replace the missing values with a constant value for that feature. In the following example, you will use the word _Missing_ as the constant value."
   ]
  },
  {
   "cell_type": "code",
   "execution_count": null,
   "id": "511572e2",
   "metadata": {
    "tags": []
   },
   "outputs": [],
   "source": [
    "# Assign the df to a new df\n",
    "df_sklearn_imputer = df.copy()\n",
    "print(\"Before imputer:\")\n",
    "print(df_sklearn_imputer[columns_to_impute].isna().sum())\n",
    "\n",
    "imputer = SimpleImputer(strategy=\"constant\", fill_value=\"Missing\")\n",
    "df_sklearn_imputer[columns_to_impute] = imputer.fit_transform(\n",
    "    df_sklearn_imputer[columns_to_impute]\n",
    ")\n",
    "print(\"\\nAfter imputer:\")\n",
    "print(df_sklearn_imputer[columns_to_impute].isna().sum())"
   ]
  },
  {
   "cell_type": "markdown",
   "id": "36113d1d",
   "metadata": {},
   "source": [
    "You will need to determine how to best handle missing values based on your dataset and what makes the best model."
   ]
  },
  {
   "cell_type": "markdown",
   "id": "8db02005",
   "metadata": {},
   "source": [
    "----\n",
    "## Conclusion\n",
    "\n",
    "This notebook helped you to understand and manipulate the categorical features in a dataset so that you can create the best ML model. Understanding and preparing data is one of the most important steps to build a successful ML model.\n",
    "\n",
    "## Next lab\n",
    "\n",
    "In the next lab, you will learn about performing EDA on numerical features."
   ]
  }
 ],
 "metadata": {
  "kernelspec": {
   "display_name": "conda_pytorch_p310",
   "language": "python",
   "name": "conda_pytorch_p310"
  },
  "language_info": {
   "codemirror_mode": {
    "name": "ipython",
    "version": 3
   },
   "file_extension": ".py",
   "mimetype": "text/x-python",
   "name": "python",
   "nbconvert_exporter": "python",
   "pygments_lexer": "ipython3",
   "version": "3.10.10"
  },
  "toc": {
   "base_numbering": 1,
   "nav_menu": {},
   "number_sections": true,
   "sideBar": true,
   "skip_h1_title": false,
   "title_cell": "Table of Contents",
   "title_sidebar": "Contents",
   "toc_cell": false,
   "toc_position": {},
   "toc_section_display": true,
   "toc_window_display": false
  }
 },
 "nbformat": 4,
 "nbformat_minor": 5
}
