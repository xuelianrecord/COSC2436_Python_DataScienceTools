{
 "cells": [
  {
   "cell_type": "markdown",
   "metadata": {},
   "source": [
    "<center><img src=\"images/logo.png\" alt=\"drawing\" width=\"400\" style=\"background-color:white; padding:1em;\" /></center> <br/>\n",
    "\n",
    "# ML through Application\n",
    "## Module 1, Lab 2: Extending your Jupyter Notebook understanding\n",
    "\n",
    "Jupyter notebooks are a key development tool for ML projects. The previous lab introduced you to the Jupyter Notebook application. By the end of this notebook, you should be able to use some special Jupyter features.\n",
    "\n",
    "You will learn how to do the following:\n",
    "- Explain what magic commands are.\n",
    "- Load data into the Jupyter Notebook application.\n",
    "- Use shortcuts to navigate the Jupyter Notebook application.\n",
    "\n",
    "__Note:__ These lab instructions are written for using Jupyter, not JupyterLab. You might encounter differences in the UI if you run this lab in JupyterLab.\n",
    "\n",
    "----\n",
    "\n",
    "You will be presented with two kinds of exercises throughout the notebook: activities and challenges. <br/>\n",
    "\n",
    "| <img style=\"float: center;\" src=\"images/activity.png\" alt=\"Activity\" width=\"125\"/>| <img style=\"float: center;\" src=\"images/challenge.png\" alt=\"Challenge\" width=\"125\"/>|\n",
    "| --- | --- |\n",
    "|<p style=\"text-align:center;\">No coding is needed for an activity. You try to understand a concept, <br/>answer questions, or run a code cell.</p> |<p style=\"text-align:center;\">Challenges are where you can practice your coding skills.</p>"
   ]
  },
  {
   "cell_type": "markdown",
   "metadata": {},
   "source": [
    "## Index\n",
    "- [Writing shell commands](#Writing-shell-commands)\n",
    "- [Magic commands](#Magic-commands)\n",
    "- [Keyboard shortcuts](#Keyboard-shortcuts)"
   ]
  },
  {
   "cell_type": "markdown",
   "metadata": {},
   "source": [
    "First, you need to import the libraries that are needed for this notebook. You will learn more about importing libraries later."
   ]
  },
  {
   "cell_type": "code",
   "execution_count": null,
   "metadata": {
    "tags": []
   },
   "outputs": [],
   "source": [
    "import time\n",
    "\n",
    "from MLUMLA_EN_M1_Lab2_quiz_questions import *"
   ]
  },
  {
   "cell_type": "markdown",
   "metadata": {},
   "source": [
    "---\n",
    "\n",
    "## Writing shell commands\n",
    "\n",
    "The Jupyter Notebook application runs on a Linux instance. To write bash commands in a notebook, preface them with `!`. In other words, you can use `![command]` to run shell commands, such as in the following example:"
   ]
  },
  {
   "cell_type": "code",
   "execution_count": null,
   "metadata": {
    "tags": []
   },
   "outputs": [],
   "source": [
    "# Print the current date in UTC\n",
    "!date"
   ]
  },
  {
   "cell_type": "markdown",
   "metadata": {},
   "source": [
    "You can use `!` with `pip` to install libraries into the kernel, such as the `matplotlib` library in the following example:"
   ]
  },
  {
   "cell_type": "code",
   "execution_count": null,
   "metadata": {
    "tags": []
   },
   "outputs": [],
   "source": [
    "# Install matplotlib on the kernel\n",
    "!pip install matplotlib"
   ]
  },
  {
   "cell_type": "markdown",
   "metadata": {},
   "source": [
    "<div style=\"border: 4px solid coral; text-align: center; margin: auto;\">\n",
    "    <h3><i>Try it yourself!</i></h3>\n",
    "    <br>\n",
    "    <p style=\"text-align:center;margin:auto;\"><img src=\"images/activity.png\" alt=\"Activity\" width=\"100\" /> </p>\n",
    "    <p style=\" text-align: center; margin: auto;\">In the following cell, run the <code>ls</code> command.</p>\n",
    "    <br>\n",
    "</div>"
   ]
  },
  {
   "cell_type": "code",
   "execution_count": null,
   "metadata": {
    "tags": []
   },
   "outputs": [],
   "source": [
    "# Run the ls shell command here\n",
    "############### CODE HERE ###############\n",
    "\n",
    "!ls\n",
    "\n",
    "############## END OF CODE ##############"
   ]
  },
  {
   "cell_type": "markdown",
   "metadata": {},
   "source": [
    "<div style=\"border: 4px solid coral; text-align: center; margin: auto;\">\n",
    "    <h3><i>It's time to check your knowledge!</i></h3>\n",
    "    <br>\n",
    "    <p style=\" text-align: center; margin: auto;\">To load the question, run the following cell.</p>\n",
    "    <br>\n",
    "</div> "
   ]
  },
  {
   "cell_type": "code",
   "execution_count": null,
   "metadata": {
    "tags": []
   },
   "outputs": [],
   "source": [
    "# Run this cell for a knowledge check question\n",
    "question_1"
   ]
  },
  {
   "cell_type": "markdown",
   "metadata": {},
   "source": [
    "---\n",
    "\n",
    "## Magic commands\n",
    "\n",
    "In code cells in a Jupyter notebook, you can use magic commands to run special functions that only work in a notebook. For example, you can use a magic command to look at the command history of your notebook or run a different programming language (such as HTML or JavaScript) than your current kernel.\n",
    "\n",
    "Preface magic commands with `%` (and use `%%` for a different programming language).\n",
    "\n",
    "__Note:__ Doubled magic commands (that begin with `%%`) should be the first line of code in a cell."
   ]
  },
  {
   "cell_type": "markdown",
   "metadata": {},
   "source": [
    "<div style=\"border: 4px solid coral; text-align: center; margin: auto;\"> \n",
    "    <h3><i>Try it yourself!</i></h3>\n",
    "    <p style=\"text-align:center;margin:auto;\"><img src=\"images/activity.png\" alt=\"Activity\" width=\"100\" /> </p>\n",
    "    <p style=\" text-align:center; margin:auto;\">In the next few code cells, you will practice using some magic commands.</p>\n",
    "    <br>\n",
    "</div>"
   ]
  },
  {
   "cell_type": "markdown",
   "metadata": {},
   "source": [
    "### History of code cells that have run\n",
    "\n",
    "The magic command in the following code cell shows the history of all cells that have run since the last kernel restart.\n",
    "\n",
    "Restart the kernel now and run a few code cells. Then, use the following magic command to see the history. The code cells are listed in the order that they were run."
   ]
  },
  {
   "cell_type": "code",
   "execution_count": null,
   "metadata": {
    "tags": []
   },
   "outputs": [],
   "source": [
    "# Look at the history of code cells that have run\n",
    "%history"
   ]
  },
  {
   "cell_type": "markdown",
   "metadata": {},
   "source": [
    "### Printing in HTML style\n",
    "\n",
    "The magic command in the following code cell shows how to use HTML to format text in a notebook."
   ]
  },
  {
   "cell_type": "code",
   "execution_count": null,
   "metadata": {
    "tags": []
   },
   "outputs": [],
   "source": [
    "%%html\n",
    "\n",
    "<h2 style=\"color: red; border: 2px solid black; text-align: center;\">This is HTML.</h2>"
   ]
  },
  {
   "cell_type": "markdown",
   "metadata": {},
   "source": [
    "### Running other languages\n",
    "\n",
    "The magic command in the following code cell shows how to run JavaScript code. In this example, the JavaScript code opens a pop-up window."
   ]
  },
  {
   "cell_type": "code",
   "execution_count": null,
   "metadata": {
    "tags": []
   },
   "outputs": [],
   "source": [
    "%%javascript\n",
    "\n",
    "alert('Sorry for this pop-up!')"
   ]
  },
  {
   "cell_type": "markdown",
   "metadata": {},
   "source": [
    "<div style=\"border: 4px solid coral; text-align: center; margin: auto;\"> \n",
    "    <h3><i>Try it yourself!</i></h3>\n",
    "    <p style=\"text-align:center; margin:auto;\"><img src=\"images/challenge.png\" alt=\"Activity\" width=\"100\" /> </p>\n",
    "    <p style=\" text-align: center; margin: auto;\">For more information about magic commands, see <a href=\"https://ipython.readthedocs.io/en/stable/interactive/magics.html\">Built-in Magic Commands</a> in the IPython documentation.</p>\n",
    "    <br>\n",
    "    <p style=\" text-align: center; margin: auto;\">Research how to use a magic command to time how long a Python statement or expression takes to run in a notebook.</p>\n",
    "    <br>\n",
    "    <p style=\" text-align: center; margin: auto;\">Then, use the command to time how long it takes to run the expression in the following code cell.</p>\n",
    "    <br>\n",
    "    <p style=\" text-align: center; margin: auto;\"><b>Hint:</b> Search for the <code>timeit</code> magic command.</p>\n",
    "    <br>\n",
    "    <p style=\" text-align: center; margin: auto;\"><b>Note:</b> Doubled magic commands (that begin with <code>%%</code>) should be the first line of code in a cell.</p>\n",
    "    <br>\n",
    "</div>"
   ]
  },
  {
   "cell_type": "code",
   "execution_count": null,
   "metadata": {
    "tags": []
   },
   "outputs": [],
   "source": [
    "%%timeit\n",
    "\n",
    "# Write before this line\n",
    "\n",
    "# Time how long it takes to run the following expression\n",
    "\n",
    "throwaway = [i*2 for i in range(1000000)]"
   ]
  },
  {
   "cell_type": "markdown",
   "metadata": {},
   "source": [
    "----\n",
    "## Keyboard shortcuts\n",
    "\n",
    "Jupyter notebooks have two different sets of keyboard shortcuts: one set that is active in edit mode and another that is active in in command mode. If you see a pencil next to the kernel type in the top-right corner, you're in edit mode. Otherwise, you're in command mode.\n",
    "\n",
    "The most important keyboard shortcuts are Enter, which enters edit mode, and Esc, which enters command mode.\n",
    "\n",
    "In edit mode, most of the keyboard is dedicated to typing into the cell's editor. Therefore, only a few shortcuts are available in edit mode.\n",
    "\n",
    "In command mode, the entire keyboard is available for shortcuts, so more shortcuts are available. To see the available shortcuts, choose **Help** > **Keyboard Shortcuts** dialog lists the available shortcuts.\n",
    "\n",
    "The following shortcuts for command mode are especially helpful to learn:\n",
    "\n",
    "- Basic navigation:\n",
    "    - Enter: Enter edit mode\n",
    "    - Shift+Enter: Run the selected cell\n",
    "    - Up arrow key or k: Move to the previous cell\n",
    "    - Down arrow key or j: Move to the next cell\n",
    "- Save the notebook: s\n",
    "- Change cell types: \n",
    "     - y: Code\n",
    "     - m: Markdown\n",
    "     - 1 through 6: Indicate the header level for a Markdown cell (for example, 1 is an h1 or `#` heading)\n",
    "- Create a cell: \n",
    "    - a: Create a cell before the currently selected cell\n",
    "    - b: Create a cell after the currently selected cell\n",
    "- Edit a cell: \n",
    "    - x: Cut\n",
    "    - c: Copy\n",
    "    - v: Paste\n",
    "    - dd: Delete \n",
    "    - z: Undo\n",
    "- Operate the kernel: \n",
    "    - i,i: Interrupt the kernel\n",
    "    - 0,0: Restart the kernel "
   ]
  },
  {
   "cell_type": "markdown",
   "metadata": {},
   "source": [
    "<div style=\"border: 4px solid coral; text-align: center; margin: auto;\">\n",
    "    <h3><i>It's time to check your knowledge!</i></h3>\n",
    "    <br>\n",
    "    <p style=\" text-align: center; margin: auto;\">To load the question, run the following cell.</p>\n",
    "    <br>\n",
    "</div> "
   ]
  },
  {
   "cell_type": "code",
   "execution_count": null,
   "metadata": {},
   "outputs": [],
   "source": [
    "# Run this cell for a knowledge check question\n",
    "question_2"
   ]
  },
  {
   "cell_type": "markdown",
   "metadata": {},
   "source": [
    "----\n",
    "## Conclusion\n",
    "\n",
    "This notebook provided you with additional information about working with Jupyter notebooks. You should now be able to operate effectively in any lab of this course.\n",
    "\n",
    "\n",
    "## Next lab\n",
    "In the next lab, you will learn how to explore a dataset that contains information about books. The goal will be to predict book prices by using book features."
   ]
  }
 ],
 "metadata": {
  "instance_type": "ml.t3.medium",
  "kernelspec": {
   "display_name": "conda_pytorch_p310",
   "language": "python",
   "name": "conda_pytorch_p310"
  },
  "language_info": {
   "codemirror_mode": {
    "name": "ipython",
    "version": 3
   },
   "file_extension": ".py",
   "mimetype": "text/x-python",
   "name": "python",
   "nbconvert_exporter": "python",
   "pygments_lexer": "ipython3",
   "version": "3.10.10"
  },
  "toc": {
   "base_numbering": 1,
   "nav_menu": {},
   "number_sections": true,
   "sideBar": true,
   "skip_h1_title": false,
   "title_cell": "Table of Contents",
   "title_sidebar": "Contents",
   "toc_cell": false,
   "toc_position": {},
   "toc_section_display": true,
   "toc_window_display": false
  },
  "vscode": {
   "interpreter": {
    "hash": "aee8b7b246df8f9039afb4144a1f6fd8d2ca17a180786b69acc140d282b71a49"
   }
  }
 },
 "nbformat": 4,
 "nbformat_minor": 4
}
